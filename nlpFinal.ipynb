{
 "cells": [
  {
   "cell_type": "code",
   "execution_count": 1,
   "metadata": {
    "_cell_guid": "b1076dfc-b9ad-4769-8c92-a6c4dae69d19",
    "_uuid": "8f2839f25d086af736a60e9eeb907d3b93b6e0e5",
    "execution": {
     "iopub.execute_input": "2021-08-25T11:47:44.831777Z",
     "iopub.status.busy": "2021-08-25T11:47:44.830996Z",
     "iopub.status.idle": "2021-08-25T11:47:48.736847Z",
     "shell.execute_reply": "2021-08-25T11:47:48.736089Z",
     "shell.execute_reply.started": "2021-08-25T11:47:44.831699Z"
    }
   },
   "outputs": [
    {
     "name": "stderr",
     "output_type": "stream",
     "text": [
      "Using TensorFlow backend.\n"
     ]
    }
   ],
   "source": [
    "# This Python 3 environment comes with many helpful analytics libraries installed\n",
    "# It is defined by the kaggle/python docker image: https://github.com/kaggle/docker-python\n",
    "# For example, here's several helpful packages to load in \n",
    "\n",
    "import numpy as np # linear algebra\n",
    "import pandas as pd # data processing, CSV file I/O (e.g. pd.read_csv)\n",
    "\n",
    "# Input data files are available in the \"../input/\" directory.\n",
    "# For example, running this (by clicking run or pressing Shift+Enter) will list the files in the input directory\n",
    "import jieba.posseg as pseg\n",
    "import os\n",
    "import keras\n",
    "\n",
    "# Any results you write to the current directory are saved as output."
   ]
  },
  {
   "cell_type": "markdown",
   "metadata": {
    "_uuid": "18ac0e1d949671ecec8271948dd9aa18ac2b0900"
   },
   "source": [
    "# **Reference by[ Lee Meng's](https://leemeng.tw/) [Post](https://leemeng.tw/shortest-path-to-the-nlp-world-a-gentle-guide-of-natural-language-processing-and-deep-learning-for-everyone.html#%E8%B3%87%E6%96%99%E5%89%8D%E8%99%95%E7%90%86%EF%BC%9A%E8%AE%93%E6%A9%9F%E5%99%A8%E8%83%BD%E5%A4%A0%E8%99%95%E7%90%86%E6%96%87%E5%AD%97)**"
   ]
  },
  {
   "cell_type": "code",
   "execution_count": 2,
   "metadata": {
    "_kg_hide-input": true,
    "_kg_hide-output": true,
    "_uuid": "d5a8427ae4033609bf5ef6b46333051f41f652c5",
    "execution": {
     "iopub.execute_input": "2021-08-25T11:47:48.738717Z",
     "iopub.status.busy": "2021-08-25T11:47:48.738156Z",
     "iopub.status.idle": "2021-08-25T11:47:48.742868Z",
     "shell.execute_reply": "2021-08-25T11:47:48.741718Z",
     "shell.execute_reply.started": "2021-08-25T11:47:48.738658Z"
    }
   },
   "outputs": [],
   "source": [
    "# ! pip install opencc-python-reimplemented"
   ]
  },
  {
   "cell_type": "code",
   "execution_count": 3,
   "metadata": {
    "_uuid": "273bf04f3e24f4ba1b75d7a0149144415da081cb",
    "execution": {
     "iopub.execute_input": "2021-08-25T11:47:48.744890Z",
     "iopub.status.busy": "2021-08-25T11:47:48.744369Z",
     "iopub.status.idle": "2021-08-25T11:47:48.757491Z",
     "shell.execute_reply": "2021-08-25T11:47:48.756384Z",
     "shell.execute_reply.started": "2021-08-25T11:47:48.744829Z"
    }
   },
   "outputs": [],
   "source": [
    "# from opencc import OpenCC\n",
    "import pandas as pd"
   ]
  },
  {
   "cell_type": "code",
   "execution_count": 4,
   "metadata": {
    "_uuid": "07708c523de20fd10dea0d1864e4e1b754a255c6",
    "execution": {
     "iopub.execute_input": "2021-08-25T11:47:48.759954Z",
     "iopub.status.busy": "2021-08-25T11:47:48.759585Z",
     "iopub.status.idle": "2021-08-25T11:47:48.770071Z",
     "shell.execute_reply": "2021-08-25T11:47:48.769242Z",
     "shell.execute_reply.started": "2021-08-25T11:47:48.759886Z"
    }
   },
   "outputs": [],
   "source": [
    "if os.path.isdir(\"../input/fake-news-pair-classification-challenge\"):\n",
    "    TRAIN_CSV_PATH = '../input/fake-news-pair-classification-challenge/train.csv'\n",
    "    TEST_CSV_PATH = '../input/fake-news-pair-classification-challenge/test.csv'\n",
    "    TOKENIZED_TRAIN_CSV_PATH = \"../input/apply-jieba-tokenizer/tokenized_train.csv\"\n",
    "    TOKENIZED_TEST_CSV_PATH = \"../input/apply-jieba-tokenizer/tokenized_test.csv\"\n",
    "else:\n",
    "    TRAIN_CSV_PATH = '../input/train.csv'\n",
    "    TEST_CSV_PATH = '../input/test.csv'\n",
    "    TOKENIZED_TRAIN_CSV_PATH = None"
   ]
  },
  {
   "cell_type": "code",
   "execution_count": 5,
   "metadata": {
    "_uuid": "9ac2b0c2de01c3f967bbba7c6106f8f89df98c3f",
    "execution": {
     "iopub.execute_input": "2021-08-25T11:47:48.771761Z",
     "iopub.status.busy": "2021-08-25T11:47:48.771527Z",
     "iopub.status.idle": "2021-08-25T11:47:52.194086Z",
     "shell.execute_reply": "2021-08-25T11:47:52.193334Z",
     "shell.execute_reply.started": "2021-08-25T11:47:48.771720Z"
    }
   },
   "outputs": [
    {
     "data": {
      "text/html": [
       "<div>\n",
       "<style scoped>\n",
       "    .dataframe tbody tr th:only-of-type {\n",
       "        vertical-align: middle;\n",
       "    }\n",
       "\n",
       "    .dataframe tbody tr th {\n",
       "        vertical-align: top;\n",
       "    }\n",
       "\n",
       "    .dataframe thead th {\n",
       "        text-align: right;\n",
       "    }\n",
       "</style>\n",
       "<table border=\"1\" class=\"dataframe\">\n",
       "  <thead>\n",
       "    <tr style=\"text-align: right;\">\n",
       "      <th></th>\n",
       "      <th>tid1</th>\n",
       "      <th>tid2</th>\n",
       "      <th>title1_zh</th>\n",
       "      <th>title2_zh</th>\n",
       "      <th>title1_en</th>\n",
       "      <th>title2_en</th>\n",
       "      <th>label</th>\n",
       "    </tr>\n",
       "    <tr>\n",
       "      <th>id</th>\n",
       "      <th></th>\n",
       "      <th></th>\n",
       "      <th></th>\n",
       "      <th></th>\n",
       "      <th></th>\n",
       "      <th></th>\n",
       "      <th></th>\n",
       "    </tr>\n",
       "  </thead>\n",
       "  <tbody>\n",
       "    <tr>\n",
       "      <th>0</th>\n",
       "      <td>0</td>\n",
       "      <td>1</td>\n",
       "      <td>2017养老保险又新增两项，农村老人人人可申领，你领到了吗</td>\n",
       "      <td>警方辟谣“鸟巢大会每人领5万” 仍有老人坚持进京</td>\n",
       "      <td>There are two new old-age insurance benefits f...</td>\n",
       "      <td>Police disprove \"bird's nest congress each per...</td>\n",
       "      <td>unrelated</td>\n",
       "    </tr>\n",
       "    <tr>\n",
       "      <th>3</th>\n",
       "      <td>2</td>\n",
       "      <td>3</td>\n",
       "      <td>\"你不来深圳，早晚你儿子也要来\"，不出10年深圳人均GDP将超香港</td>\n",
       "      <td>深圳GDP首超香港？深圳统计局辟谣：只是差距在缩小</td>\n",
       "      <td>\"If you do not come to Shenzhen, sooner or lat...</td>\n",
       "      <td>Shenzhen's GDP outstrips Hong Kong? Shenzhen S...</td>\n",
       "      <td>unrelated</td>\n",
       "    </tr>\n",
       "    <tr>\n",
       "      <th>1</th>\n",
       "      <td>2</td>\n",
       "      <td>4</td>\n",
       "      <td>\"你不来深圳，早晚你儿子也要来\"，不出10年深圳人均GDP将超香港</td>\n",
       "      <td>GDP首超香港？深圳澄清：还差一点点……</td>\n",
       "      <td>\"If you do not come to Shenzhen, sooner or lat...</td>\n",
       "      <td>The GDP overtopped Hong Kong? Shenzhen clarifi...</td>\n",
       "      <td>unrelated</td>\n",
       "    </tr>\n",
       "  </tbody>\n",
       "</table>\n",
       "</div>"
      ],
      "text/plain": [
       "    tid1    ...          label\n",
       "id          ...               \n",
       "0      0    ...      unrelated\n",
       "3      2    ...      unrelated\n",
       "1      2    ...      unrelated\n",
       "\n",
       "[3 rows x 7 columns]"
      ]
     },
     "execution_count": 5,
     "metadata": {},
     "output_type": "execute_result"
    }
   ],
   "source": [
    "train = pd.read_csv(TRAIN_CSV_PATH, index_col='id')\n",
    "train.head(3)"
   ]
  },
  {
   "cell_type": "code",
   "execution_count": 6,
   "metadata": {
    "_uuid": "295b1795e208cebdee91148af88147b6d3137eaa",
    "execution": {
     "iopub.execute_input": "2021-08-25T11:47:52.195651Z",
     "iopub.status.busy": "2021-08-25T11:47:52.195388Z",
     "iopub.status.idle": "2021-08-25T11:47:52.229475Z",
     "shell.execute_reply": "2021-08-25T11:47:52.228440Z",
     "shell.execute_reply.started": "2021-08-25T11:47:52.195602Z"
    }
   },
   "outputs": [
    {
     "data": {
      "text/html": [
       "<div>\n",
       "<style scoped>\n",
       "    .dataframe tbody tr th:only-of-type {\n",
       "        vertical-align: middle;\n",
       "    }\n",
       "\n",
       "    .dataframe tbody tr th {\n",
       "        vertical-align: top;\n",
       "    }\n",
       "\n",
       "    .dataframe thead th {\n",
       "        text-align: right;\n",
       "    }\n",
       "</style>\n",
       "<table border=\"1\" class=\"dataframe\">\n",
       "  <thead>\n",
       "    <tr style=\"text-align: right;\">\n",
       "      <th></th>\n",
       "      <th>title1_zh</th>\n",
       "      <th>title2_zh</th>\n",
       "      <th>label</th>\n",
       "    </tr>\n",
       "    <tr>\n",
       "      <th>id</th>\n",
       "      <th></th>\n",
       "      <th></th>\n",
       "      <th></th>\n",
       "    </tr>\n",
       "  </thead>\n",
       "  <tbody>\n",
       "    <tr>\n",
       "      <th>0</th>\n",
       "      <td>2017养老保险又新增两项，农村老人人人可申领，你领到了吗</td>\n",
       "      <td>警方辟谣“鸟巢大会每人领5万” 仍有老人坚持进京</td>\n",
       "      <td>unrelated</td>\n",
       "    </tr>\n",
       "    <tr>\n",
       "      <th>3</th>\n",
       "      <td>\"你不来深圳，早晚你儿子也要来\"，不出10年深圳人均GDP将超香港</td>\n",
       "      <td>深圳GDP首超香港？深圳统计局辟谣：只是差距在缩小</td>\n",
       "      <td>unrelated</td>\n",
       "    </tr>\n",
       "    <tr>\n",
       "      <th>1</th>\n",
       "      <td>\"你不来深圳，早晚你儿子也要来\"，不出10年深圳人均GDP将超香港</td>\n",
       "      <td>GDP首超香港？深圳澄清：还差一点点……</td>\n",
       "      <td>unrelated</td>\n",
       "    </tr>\n",
       "  </tbody>\n",
       "</table>\n",
       "</div>"
      ],
      "text/plain": [
       "                            title1_zh    ...          label\n",
       "id                                       ...               \n",
       "0       2017养老保险又新增两项，农村老人人人可申领，你领到了吗    ...      unrelated\n",
       "3   \"你不来深圳，早晚你儿子也要来\"，不出10年深圳人均GDP将超香港    ...      unrelated\n",
       "1   \"你不来深圳，早晚你儿子也要来\"，不出10年深圳人均GDP将超香港    ...      unrelated\n",
       "\n",
       "[3 rows x 3 columns]"
      ]
     },
     "execution_count": 6,
     "metadata": {},
     "output_type": "execute_result"
    }
   ],
   "source": [
    "cols = ['title1_zh', \n",
    "        'title2_zh', \n",
    "        'label']\n",
    "train = train.loc[:, cols]\n",
    "train.head(3)"
   ]
  },
  {
   "cell_type": "markdown",
   "metadata": {
    "_uuid": "b132a04e56354b6717cd32df70e5b3761ac2dc51"
   },
   "source": [
    "# 文本分詞\n",
    "文本分詞（Text Segmentation）是一個將一連串文字切割成多個有意義的單位的步驟。\n",
    "\n",
    "這單位可以是\n",
    "\n",
    "* 一個中文漢字 / 英文字母（Character）\n",
    "* 一個中文詞彙 / 英文單字（Word）\n",
    "* 一個中文句子 / 英文句子（Sentence）\n",
    "\n",
    "依照不同的 NLP 任務會有不同切割需求，但很常見的切法是以單字（Word）為單位，也就是 Word Segmentation。"
   ]
  },
  {
   "cell_type": "code",
   "execution_count": 7,
   "metadata": {
    "_uuid": "ef065d6019ef8726629941a15f2e584d7d7efd88",
    "execution": {
     "iopub.execute_input": "2021-08-25T11:47:52.231409Z",
     "iopub.status.busy": "2021-08-25T11:47:52.231072Z",
     "iopub.status.idle": "2021-08-25T11:47:53.585130Z",
     "shell.execute_reply": "2021-08-25T11:47:53.583917Z",
     "shell.execute_reply.started": "2021-08-25T11:47:52.231359Z"
    }
   },
   "outputs": [
    {
     "name": "stderr",
     "output_type": "stream",
     "text": [
      "Building prefix dict from the default dictionary ...\n",
      "Dumping model to file cache /tmp/jieba.cache\n",
      "Loading model cost 1.337 seconds.\n",
      "Prefix dict has been built succesfully.\n"
     ]
    },
    {
     "data": {
      "text/plain": [
       "[pair('我', 'r'),\n",
       " pair('是', 'v'),\n",
       " pair('台中人', 'n'),\n",
       " pair('，', 'x'),\n",
       " pair('但是', 'c'),\n",
       " pair('我', 'r'),\n",
       " pair('在', 'p'),\n",
       " pair('板橋', 'n'),\n",
       " pair('上班', 'v')]"
      ]
     },
     "execution_count": 7,
     "metadata": {},
     "output_type": "execute_result"
    }
   ],
   "source": [
    "text = '我是台中人，但是我在板橋上班'\n",
    "words = pseg.cut(text)\n",
    "[word for word in words]"
   ]
  },
  {
   "cell_type": "code",
   "execution_count": 8,
   "metadata": {
    "_uuid": "45adb6ecba37dcb38c9529308ea53a6d068c3147",
    "execution": {
     "iopub.execute_input": "2021-08-25T11:47:53.587106Z",
     "iopub.status.busy": "2021-08-25T11:47:53.586743Z",
     "iopub.status.idle": "2021-08-25T11:47:53.592552Z",
     "shell.execute_reply": "2021-08-25T11:47:53.591277Z",
     "shell.execute_reply.started": "2021-08-25T11:47:53.587037Z"
    }
   },
   "outputs": [],
   "source": [
    "def jieba_tokenizer(text):\n",
    "    words = pseg.cut(text)\n",
    "    return ' '.join([\n",
    "        word for word, flag in words if flag != 'x'])"
   ]
  },
  {
   "cell_type": "code",
   "execution_count": 9,
   "metadata": {
    "_uuid": "52b546923c9b3200f85895325ca76e4faa72432a",
    "execution": {
     "iopub.execute_input": "2021-08-25T11:47:53.595297Z",
     "iopub.status.busy": "2021-08-25T11:47:53.594529Z",
     "iopub.status.idle": "2021-08-25T11:47:53.719148Z",
     "shell.execute_reply": "2021-08-25T11:47:53.718161Z",
     "shell.execute_reply.started": "2021-08-25T11:47:53.594819Z"
    }
   },
   "outputs": [
    {
     "data": {
      "text/plain": [
       "title1_zh    False\n",
       "title2_zh     True\n",
       "label        False\n",
       "dtype: bool"
      ]
     },
     "execution_count": 9,
     "metadata": {},
     "output_type": "execute_result"
    }
   ],
   "source": [
    "train.isna().any()"
   ]
  },
  {
   "cell_type": "code",
   "execution_count": 10,
   "metadata": {
    "_uuid": "d68b523fbee7ac21dd403c525afe6f0f23837f42",
    "execution": {
     "iopub.execute_input": "2021-08-25T11:47:53.720612Z",
     "iopub.status.busy": "2021-08-25T11:47:53.720391Z",
     "iopub.status.idle": "2021-08-25T11:47:53.874009Z",
     "shell.execute_reply": "2021-08-25T11:47:53.872932Z",
     "shell.execute_reply.started": "2021-08-25T11:47:53.720573Z"
    },
    "scrolled": true
   },
   "outputs": [
    {
     "data": {
      "text/plain": [
       "title1_zh    False\n",
       "title2_zh    False\n",
       "label        False\n",
       "dtype: bool"
      ]
     },
     "execution_count": 10,
     "metadata": {},
     "output_type": "execute_result"
    }
   ],
   "source": [
    "train.title2_zh.fillna('UNKNOWN', inplace=True)\n",
    "train.isna().any()"
   ]
  },
  {
   "cell_type": "code",
   "execution_count": 11,
   "metadata": {
    "_uuid": "f3f4efd616d459daa49e0a4ef3600dd6e8be2052",
    "execution": {
     "iopub.execute_input": "2021-08-25T11:47:53.875526Z",
     "iopub.status.busy": "2021-08-25T11:47:53.875305Z",
     "iopub.status.idle": "2021-08-25T11:47:53.882219Z",
     "shell.execute_reply": "2021-08-25T11:47:53.881298Z",
     "shell.execute_reply.started": "2021-08-25T11:47:53.875493Z"
    }
   },
   "outputs": [
    {
     "name": "stderr",
     "output_type": "stream",
     "text": [
      "<ipython-input-11-2085024a8821>:7: SyntaxWarning: assertion is always true, perhaps remove parentheses?\n",
      "  assert((data.index == res.index).all(), 'Something error when merge data')\n"
     ]
    }
   ],
   "source": [
    "def process(data):\n",
    "    res = data.apply(jieba_tokenizer)\n",
    "    return res\n",
    "\n",
    "\n",
    "def check_merge_idx(data, res):\n",
    "    assert((data.index == res.index).all(), 'Something error when merge data')\n",
    "\n",
    "def parallelize(data, func):\n",
    "    from multiprocessing import cpu_count, Pool\n",
    "    cores = partitions = cpu_count()\n",
    "    data_split = np.array_split(data, partitions)\n",
    "    pool = Pool(cores)\n",
    "    res = pd.concat(pool.map(func, data_split))\n",
    "    pool.close()\n",
    "    pool.join()\n",
    "    check_merge_idx(data, res)\n",
    "    return res"
   ]
  },
  {
   "cell_type": "code",
   "execution_count": 12,
   "metadata": {
    "_uuid": "df8c440db632c2c4ad2de1321ce38cd8f89ae62e",
    "execution": {
     "iopub.execute_input": "2021-08-25T11:47:53.883893Z",
     "iopub.status.busy": "2021-08-25T11:47:53.883626Z",
     "iopub.status.idle": "2021-08-25T11:47:53.904365Z",
     "shell.execute_reply": "2021-08-25T11:47:53.903176Z",
     "shell.execute_reply.started": "2021-08-25T11:47:53.883842Z"
    }
   },
   "outputs": [
    {
     "data": {
      "text/plain": [
       "True"
      ]
     },
     "execution_count": 12,
     "metadata": {},
     "output_type": "execute_result"
    }
   ],
   "source": [
    "np.all(train.index == train.title1_zh.index)"
   ]
  },
  {
   "cell_type": "code",
   "execution_count": 13,
   "metadata": {
    "_uuid": "c8f26082d38c8e9d3facbd7090a6254e6eebf6a3",
    "execution": {
     "iopub.execute_input": "2021-08-25T11:47:53.906423Z",
     "iopub.status.busy": "2021-08-25T11:47:53.906072Z",
     "iopub.status.idle": "2021-08-25T11:59:16.366506Z",
     "shell.execute_reply": "2021-08-25T11:59:16.365457Z",
     "shell.execute_reply.started": "2021-08-25T11:47:53.906364Z"
    },
    "scrolled": true
   },
   "outputs": [
    {
     "name": "stdout",
     "output_type": "stream",
     "text": [
      "start to training\n"
     ]
    }
   ],
   "source": [
    "if os.path.exists(TOKENIZED_TRAIN_CSV_PATH):\n",
    "    print(\"Use prepared tokenized train data\")\n",
    "    train = pd.read_csv(TOKENIZED_TRAIN_CSV_PATH, index_col='id')\n",
    "else:\n",
    "    print(\"start to training\")\n",
    "    train['title1_tokenized'] = parallelize(train.loc[:, 'title1_zh'], process)\n",
    "    train['title2_tokenized'] = parallelize(train.loc[:, 'title2_zh'], process)\n",
    "    train.to_csv('tokenized_train.csv',index=True)"
   ]
  },
  {
   "cell_type": "code",
   "execution_count": 14,
   "metadata": {
    "_uuid": "9559d4cabde9ac0ab2ffbbfeea8eda7863da103f",
    "execution": {
     "iopub.execute_input": "2021-08-25T11:59:16.368122Z",
     "iopub.status.busy": "2021-08-25T11:59:16.367734Z",
     "iopub.status.idle": "2021-08-25T11:59:16.475844Z",
     "shell.execute_reply": "2021-08-25T11:59:16.474847Z",
     "shell.execute_reply.started": "2021-08-25T11:59:16.368078Z"
    },
    "scrolled": true
   },
   "outputs": [
    {
     "data": {
      "text/html": [
       "<div>\n",
       "<style scoped>\n",
       "    .dataframe tbody tr th:only-of-type {\n",
       "        vertical-align: middle;\n",
       "    }\n",
       "\n",
       "    .dataframe tbody tr th {\n",
       "        vertical-align: top;\n",
       "    }\n",
       "\n",
       "    .dataframe thead th {\n",
       "        text-align: right;\n",
       "    }\n",
       "</style>\n",
       "<table border=\"1\" class=\"dataframe\">\n",
       "  <thead>\n",
       "    <tr style=\"text-align: right;\">\n",
       "      <th></th>\n",
       "      <th>title1_zh</th>\n",
       "      <th>title1_tokenized</th>\n",
       "    </tr>\n",
       "    <tr>\n",
       "      <th>id</th>\n",
       "      <th></th>\n",
       "      <th></th>\n",
       "    </tr>\n",
       "  </thead>\n",
       "  <tbody>\n",
       "    <tr>\n",
       "      <th>0</th>\n",
       "      <td>2017养老保险又新增两项，农村老人人人可申领，你领到了吗</td>\n",
       "      <td>2017 养老保险 又 新增 两项 农村 老人 人人 可 申领 你 领到 了 吗</td>\n",
       "    </tr>\n",
       "    <tr>\n",
       "      <th>3</th>\n",
       "      <td>\"你不来深圳，早晚你儿子也要来\"，不出10年深圳人均GDP将超香港</td>\n",
       "      <td>你 不 来 深圳 早晚 你 儿子 也 要 来 不出 10 年 深圳 人均 GDP 将 超 香港</td>\n",
       "    </tr>\n",
       "    <tr>\n",
       "      <th>1</th>\n",
       "      <td>\"你不来深圳，早晚你儿子也要来\"，不出10年深圳人均GDP将超香港</td>\n",
       "      <td>你 不 来 深圳 早晚 你 儿子 也 要 来 不出 10 年 深圳 人均 GDP 将 超 香港</td>\n",
       "    </tr>\n",
       "    <tr>\n",
       "      <th>2</th>\n",
       "      <td>\"你不来深圳，早晚你儿子也要来\"，不出10年深圳人均GDP将超香港</td>\n",
       "      <td>你 不 来 深圳 早晚 你 儿子 也 要 来 不出 10 年 深圳 人均 GDP 将 超 香港</td>\n",
       "    </tr>\n",
       "    <tr>\n",
       "      <th>9</th>\n",
       "      <td>\"用大蒜鉴别地沟油的方法,怎么鉴别地沟油</td>\n",
       "      <td>用 大蒜 鉴别 地沟油 的 方法 怎么 鉴别 地沟油</td>\n",
       "    </tr>\n",
       "    <tr>\n",
       "      <th>4</th>\n",
       "      <td>\"你不来深圳，早晚你儿子也要来\"，不出10年深圳人均GDP将超香港</td>\n",
       "      <td>你 不 来 深圳 早晚 你 儿子 也 要 来 不出 10 年 深圳 人均 GDP 将 超 香港</td>\n",
       "    </tr>\n",
       "    <tr>\n",
       "      <th>6</th>\n",
       "      <td>\"吃榴莲的禁忌,吃错会致命!</td>\n",
       "      <td>吃 榴莲 的 禁忌 吃 错会 致命</td>\n",
       "    </tr>\n",
       "    <tr>\n",
       "      <th>5</th>\n",
       "      <td>\"你不来深圳，早晚你儿子也要来\"，不出10年深圳人均GDP将超香港</td>\n",
       "      <td>你 不 来 深圳 早晚 你 儿子 也 要 来 不出 10 年 深圳 人均 GDP 将 超 香港</td>\n",
       "    </tr>\n",
       "    <tr>\n",
       "      <th>7</th>\n",
       "      <td>\"旅行青蛙？居然是一款\"\"生育意愿测试器”！大家还是玩\"\"珠宝V课\"\"吧\"</td>\n",
       "      <td>旅行 青蛙 居然 是 一款 生育 意愿 测试 器 大家 还是 玩 珠宝 V 课 吧</td>\n",
       "    </tr>\n",
       "    <tr>\n",
       "      <th>8</th>\n",
       "      <td>\"用大蒜鉴别地沟油的方法,怎么鉴别地沟油</td>\n",
       "      <td>用 大蒜 鉴别 地沟油 的 方法 怎么 鉴别 地沟油</td>\n",
       "    </tr>\n",
       "  </tbody>\n",
       "</table>\n",
       "</div>"
      ],
      "text/plain": [
       "                                title1_zh                                 title1_tokenized\n",
       "id                                                                                        \n",
       "0           2017养老保险又新增两项，农村老人人人可申领，你领到了吗         2017 养老保险 又 新增 两项 农村 老人 人人 可 申领 你 领到 了 吗\n",
       "3       \"你不来深圳，早晚你儿子也要来\"，不出10年深圳人均GDP将超香港  你 不 来 深圳 早晚 你 儿子 也 要 来 不出 10 年 深圳 人均 GDP 将 超 香港\n",
       "1       \"你不来深圳，早晚你儿子也要来\"，不出10年深圳人均GDP将超香港  你 不 来 深圳 早晚 你 儿子 也 要 来 不出 10 年 深圳 人均 GDP 将 超 香港\n",
       "2       \"你不来深圳，早晚你儿子也要来\"，不出10年深圳人均GDP将超香港  你 不 来 深圳 早晚 你 儿子 也 要 来 不出 10 年 深圳 人均 GDP 将 超 香港\n",
       "9                    \"用大蒜鉴别地沟油的方法,怎么鉴别地沟油                       用 大蒜 鉴别 地沟油 的 方法 怎么 鉴别 地沟油\n",
       "4       \"你不来深圳，早晚你儿子也要来\"，不出10年深圳人均GDP将超香港  你 不 来 深圳 早晚 你 儿子 也 要 来 不出 10 年 深圳 人均 GDP 将 超 香港\n",
       "6                          \"吃榴莲的禁忌,吃错会致命!                                吃 榴莲 的 禁忌 吃 错会 致命\n",
       "5       \"你不来深圳，早晚你儿子也要来\"，不出10年深圳人均GDP将超香港  你 不 来 深圳 早晚 你 儿子 也 要 来 不出 10 年 深圳 人均 GDP 将 超 香港\n",
       "7   \"旅行青蛙？居然是一款\"\"生育意愿测试器”！大家还是玩\"\"珠宝V课\"\"吧\"        旅行 青蛙 居然 是 一款 生育 意愿 测试 器 大家 还是 玩 珠宝 V 课 吧\n",
       "8                    \"用大蒜鉴别地沟油的方法,怎么鉴别地沟油                       用 大蒜 鉴别 地沟油 的 方法 怎么 鉴别 地沟油"
      ]
     },
     "execution_count": 14,
     "metadata": {},
     "output_type": "execute_result"
    }
   ],
   "source": [
    "train.loc[:, [\"title1_zh\", \"title1_tokenized\"]].head(10)"
   ]
  },
  {
   "cell_type": "code",
   "execution_count": 15,
   "metadata": {
    "_uuid": "b6617160c1a282b426f9cde776824e10a62e8132",
    "execution": {
     "iopub.execute_input": "2021-08-25T11:59:16.477313Z",
     "iopub.status.busy": "2021-08-25T11:59:16.476905Z",
     "iopub.status.idle": "2021-08-25T11:59:16.508983Z",
     "shell.execute_reply": "2021-08-25T11:59:16.508109Z",
     "shell.execute_reply.started": "2021-08-25T11:59:16.477242Z"
    }
   },
   "outputs": [
    {
     "data": {
      "text/html": [
       "<div>\n",
       "<style scoped>\n",
       "    .dataframe tbody tr th:only-of-type {\n",
       "        vertical-align: middle;\n",
       "    }\n",
       "\n",
       "    .dataframe tbody tr th {\n",
       "        vertical-align: top;\n",
       "    }\n",
       "\n",
       "    .dataframe thead th {\n",
       "        text-align: right;\n",
       "    }\n",
       "</style>\n",
       "<table border=\"1\" class=\"dataframe\">\n",
       "  <thead>\n",
       "    <tr style=\"text-align: right;\">\n",
       "      <th></th>\n",
       "      <th>title2_zh</th>\n",
       "      <th>title2_tokenized</th>\n",
       "    </tr>\n",
       "    <tr>\n",
       "      <th>id</th>\n",
       "      <th></th>\n",
       "      <th></th>\n",
       "    </tr>\n",
       "  </thead>\n",
       "  <tbody>\n",
       "    <tr>\n",
       "      <th>0</th>\n",
       "      <td>警方辟谣“鸟巢大会每人领5万” 仍有老人坚持进京</td>\n",
       "      <td>警方 辟谣 鸟巢 大会 每人 领 5 万 仍 有 老人 坚持 进京</td>\n",
       "    </tr>\n",
       "    <tr>\n",
       "      <th>3</th>\n",
       "      <td>深圳GDP首超香港？深圳统计局辟谣：只是差距在缩小</td>\n",
       "      <td>深圳 GDP 首 超 香港 深圳 统计局 辟谣 只是 差距 在 缩小</td>\n",
       "    </tr>\n",
       "    <tr>\n",
       "      <th>1</th>\n",
       "      <td>GDP首超香港？深圳澄清：还差一点点……</td>\n",
       "      <td>GDP 首 超 香港 深圳 澄清 还 差 一点点</td>\n",
       "    </tr>\n",
       "    <tr>\n",
       "      <th>2</th>\n",
       "      <td>去年深圳GDP首超香港？深圳统计局辟谣：还差611亿</td>\n",
       "      <td>去年 深圳 GDP 首 超 香港 深圳 统计局 辟谣 还 差 611 亿</td>\n",
       "    </tr>\n",
       "    <tr>\n",
       "      <th>9</th>\n",
       "      <td>吃了30年食用油才知道，一片大蒜轻松鉴别地沟油</td>\n",
       "      <td>吃 了 30 年 食用油 才 知道 一片 大蒜 轻松 鉴别 地沟油</td>\n",
       "    </tr>\n",
       "    <tr>\n",
       "      <th>4</th>\n",
       "      <td>深圳GDP首超香港？统计局辟谣：未超但差距再度缩小</td>\n",
       "      <td>深圳 GDP 首 超 香港 统计局 辟谣 未 超 但 差距 再度 缩小</td>\n",
       "    </tr>\n",
       "    <tr>\n",
       "      <th>6</th>\n",
       "      <td>榴莲不能和什么一起吃 与咖啡同吃诱发心脏病\"\"</td>\n",
       "      <td>榴莲 不能 和 什么 一起 吃 与 咖啡 同 吃 诱发 心脏病</td>\n",
       "    </tr>\n",
       "    <tr>\n",
       "      <th>5</th>\n",
       "      <td>深圳GDP首超香港？辟谣：未超但差距再度缩小</td>\n",
       "      <td>深圳 GDP 首 超 香港 辟谣 未 超 但 差距 再度 缩小</td>\n",
       "    </tr>\n",
       "    <tr>\n",
       "      <th>7</th>\n",
       "      <td>咸宁一家店的蛋糕含有“棉花”？崇阳多部门联合辟谣</td>\n",
       "      <td>咸宁 一家 店 的 蛋糕 含有 棉花 崇阳 多 部门 联合 辟谣</td>\n",
       "    </tr>\n",
       "    <tr>\n",
       "      <th>8</th>\n",
       "      <td>一颗大蒜就能鉴别地沟油？别闹了！做到下面几点，让您远离地沟油</td>\n",
       "      <td>一颗 大蒜 就 能 鉴别 地沟油 别闹 了 做到 下面 几点 让 您 远离 地沟油</td>\n",
       "    </tr>\n",
       "  </tbody>\n",
       "</table>\n",
       "</div>"
      ],
      "text/plain": [
       "                         title2_zh                           title2_tokenized\n",
       "id                                                                           \n",
       "0         警方辟谣“鸟巢大会每人领5万” 仍有老人坚持进京          警方 辟谣 鸟巢 大会 每人 领 5 万 仍 有 老人 坚持 进京\n",
       "3        深圳GDP首超香港？深圳统计局辟谣：只是差距在缩小         深圳 GDP 首 超 香港 深圳 统计局 辟谣 只是 差距 在 缩小\n",
       "1             GDP首超香港？深圳澄清：还差一点点……                   GDP 首 超 香港 深圳 澄清 还 差 一点点\n",
       "2       去年深圳GDP首超香港？深圳统计局辟谣：还差611亿       去年 深圳 GDP 首 超 香港 深圳 统计局 辟谣 还 差 611 亿\n",
       "9          吃了30年食用油才知道，一片大蒜轻松鉴别地沟油          吃 了 30 年 食用油 才 知道 一片 大蒜 轻松 鉴别 地沟油\n",
       "4        深圳GDP首超香港？统计局辟谣：未超但差距再度缩小        深圳 GDP 首 超 香港 统计局 辟谣 未 超 但 差距 再度 缩小\n",
       "6          榴莲不能和什么一起吃 与咖啡同吃诱发心脏病\"\"            榴莲 不能 和 什么 一起 吃 与 咖啡 同 吃 诱发 心脏病\n",
       "5           深圳GDP首超香港？辟谣：未超但差距再度缩小            深圳 GDP 首 超 香港 辟谣 未 超 但 差距 再度 缩小\n",
       "7         咸宁一家店的蛋糕含有“棉花”？崇阳多部门联合辟谣           咸宁 一家 店 的 蛋糕 含有 棉花 崇阳 多 部门 联合 辟谣\n",
       "8   一颗大蒜就能鉴别地沟油？别闹了！做到下面几点，让您远离地沟油  一颗 大蒜 就 能 鉴别 地沟油 别闹 了 做到 下面 几点 让 您 远离 地沟油"
      ]
     },
     "execution_count": 15,
     "metadata": {},
     "output_type": "execute_result"
    }
   ],
   "source": [
    "train.loc[:, [\"title2_zh\", \"title2_tokenized\"]].head(10)"
   ]
  },
  {
   "cell_type": "code",
   "execution_count": 16,
   "metadata": {
    "_uuid": "973236debf9f0ad48cc2d435e7eee134c58f46cb",
    "execution": {
     "iopub.execute_input": "2021-08-25T11:59:16.510716Z",
     "iopub.status.busy": "2021-08-25T11:59:16.510436Z",
     "iopub.status.idle": "2021-08-25T11:59:16.744151Z",
     "shell.execute_reply": "2021-08-25T11:59:16.743107Z",
     "shell.execute_reply.started": "2021-08-25T11:59:16.510663Z"
    }
   },
   "outputs": [],
   "source": [
    "train.fillna('UNKNOWN', inplace=True)"
   ]
  },
  {
   "cell_type": "code",
   "execution_count": 17,
   "metadata": {
    "_uuid": "98766e3c8a426210a4a46829ddb77a22b4353b54",
    "execution": {
     "iopub.execute_input": "2021-08-25T11:59:16.745772Z",
     "iopub.status.busy": "2021-08-25T11:59:16.745486Z",
     "iopub.status.idle": "2021-08-25T11:59:16.750528Z",
     "shell.execute_reply": "2021-08-25T11:59:16.749292Z",
     "shell.execute_reply.started": "2021-08-25T11:59:16.745715Z"
    }
   },
   "outputs": [],
   "source": [
    "\n",
    "MAX_NUM_WORDS = 10000\n",
    "tokenizer = keras \\\n",
    "    .preprocessing \\\n",
    "    .text \\\n",
    "    .Tokenizer(num_words=MAX_NUM_WORDS)"
   ]
  },
  {
   "cell_type": "code",
   "execution_count": 18,
   "metadata": {
    "_uuid": "96d4d25927d2668be37d2cab84aed0afd6518ace",
    "execution": {
     "iopub.execute_input": "2021-08-25T11:59:16.752548Z",
     "iopub.status.busy": "2021-08-25T11:59:16.752040Z",
     "iopub.status.idle": "2021-08-25T11:59:16.781365Z",
     "shell.execute_reply": "2021-08-25T11:59:16.780714Z",
     "shell.execute_reply.started": "2021-08-25T11:59:16.752502Z"
    }
   },
   "outputs": [
    {
     "data": {
      "text/plain": [
       "(641104,)"
      ]
     },
     "execution_count": 18,
     "metadata": {},
     "output_type": "execute_result"
    }
   ],
   "source": [
    "corpus_x1 = train.title1_tokenized\n",
    "corpus_x2 = train.title2_tokenized\n",
    "corpus = pd.concat([\n",
    "    corpus_x1, corpus_x2])\n",
    "corpus.shape"
   ]
  },
  {
   "cell_type": "code",
   "execution_count": 19,
   "metadata": {
    "_uuid": "f3e8c3afc13eab27923de1810fb751d63c2732c6",
    "execution": {
     "iopub.execute_input": "2021-08-25T11:59:16.782692Z",
     "iopub.status.busy": "2021-08-25T11:59:16.782324Z",
     "iopub.status.idle": "2021-08-25T11:59:16.796928Z",
     "shell.execute_reply": "2021-08-25T11:59:16.795833Z",
     "shell.execute_reply.started": "2021-08-25T11:59:16.782634Z"
    }
   },
   "outputs": [
    {
     "data": {
      "text/html": [
       "<div>\n",
       "<style scoped>\n",
       "    .dataframe tbody tr th:only-of-type {\n",
       "        vertical-align: middle;\n",
       "    }\n",
       "\n",
       "    .dataframe tbody tr th {\n",
       "        vertical-align: top;\n",
       "    }\n",
       "\n",
       "    .dataframe thead th {\n",
       "        text-align: right;\n",
       "    }\n",
       "</style>\n",
       "<table border=\"1\" class=\"dataframe\">\n",
       "  <thead>\n",
       "    <tr style=\"text-align: right;\">\n",
       "      <th></th>\n",
       "      <th>title</th>\n",
       "    </tr>\n",
       "    <tr>\n",
       "      <th>id</th>\n",
       "      <th></th>\n",
       "    </tr>\n",
       "  </thead>\n",
       "  <tbody>\n",
       "    <tr>\n",
       "      <th>0</th>\n",
       "      <td>2017 养老保险 又 新增 两项 农村 老人 人人 可 申领 你 领到 了 吗</td>\n",
       "    </tr>\n",
       "    <tr>\n",
       "      <th>3</th>\n",
       "      <td>你 不 来 深圳 早晚 你 儿子 也 要 来 不出 10 年 深圳 人均 GDP 将 超 香港</td>\n",
       "    </tr>\n",
       "    <tr>\n",
       "      <th>1</th>\n",
       "      <td>你 不 来 深圳 早晚 你 儿子 也 要 来 不出 10 年 深圳 人均 GDP 将 超 香港</td>\n",
       "    </tr>\n",
       "    <tr>\n",
       "      <th>2</th>\n",
       "      <td>你 不 来 深圳 早晚 你 儿子 也 要 来 不出 10 年 深圳 人均 GDP 将 超 香港</td>\n",
       "    </tr>\n",
       "    <tr>\n",
       "      <th>9</th>\n",
       "      <td>用 大蒜 鉴别 地沟油 的 方法 怎么 鉴别 地沟油</td>\n",
       "    </tr>\n",
       "  </tbody>\n",
       "</table>\n",
       "</div>"
      ],
      "text/plain": [
       "                                              title\n",
       "id                                                 \n",
       "0          2017 养老保险 又 新增 两项 农村 老人 人人 可 申领 你 领到 了 吗\n",
       "3   你 不 来 深圳 早晚 你 儿子 也 要 来 不出 10 年 深圳 人均 GDP 将 超 香港\n",
       "1   你 不 来 深圳 早晚 你 儿子 也 要 来 不出 10 年 深圳 人均 GDP 将 超 香港\n",
       "2   你 不 来 深圳 早晚 你 儿子 也 要 来 不出 10 年 深圳 人均 GDP 将 超 香港\n",
       "9                        用 大蒜 鉴别 地沟油 的 方法 怎么 鉴别 地沟油"
      ]
     },
     "execution_count": 19,
     "metadata": {},
     "output_type": "execute_result"
    }
   ],
   "source": [
    "pd.DataFrame(corpus.iloc[:5],\n",
    "             columns=['title'])"
   ]
  },
  {
   "cell_type": "code",
   "execution_count": 20,
   "metadata": {
    "_uuid": "8d08949fb45567e8e2c578e98a0eff2af3fa22d1",
    "execution": {
     "iopub.execute_input": "2021-08-25T11:59:16.798822Z",
     "iopub.status.busy": "2021-08-25T11:59:16.798407Z",
     "iopub.status.idle": "2021-08-25T11:59:16.881465Z",
     "shell.execute_reply": "2021-08-25T11:59:16.880472Z",
     "shell.execute_reply.started": "2021-08-25T11:59:16.798761Z"
    }
   },
   "outputs": [
    {
     "data": {
      "text/plain": [
       "False"
      ]
     },
     "execution_count": 20,
     "metadata": {},
     "output_type": "execute_result"
    }
   ],
   "source": [
    "corpus.isna().any()"
   ]
  },
  {
   "cell_type": "code",
   "execution_count": 21,
   "metadata": {
    "_uuid": "4ed3ead2718cb2683dd7e1b59b51663fe6933cff",
    "execution": {
     "iopub.execute_input": "2021-08-25T11:59:16.883657Z",
     "iopub.status.busy": "2021-08-25T11:59:16.883164Z",
     "iopub.status.idle": "2021-08-25T11:59:50.726850Z",
     "shell.execute_reply": "2021-08-25T11:59:50.726073Z",
     "shell.execute_reply.started": "2021-08-25T11:59:16.883612Z"
    }
   },
   "outputs": [],
   "source": [
    "tokenizer.fit_on_texts(corpus)\n",
    "x1_train = tokenizer \\\n",
    "    .texts_to_sequences(corpus_x1)\n",
    "x2_train = tokenizer \\\n",
    "    .texts_to_sequences(corpus_x2)"
   ]
  },
  {
   "cell_type": "code",
   "execution_count": 22,
   "metadata": {
    "_uuid": "93da3cf54e492fb84609507e0c58070fd03328d5",
    "execution": {
     "iopub.execute_input": "2021-08-25T11:59:50.728606Z",
     "iopub.status.busy": "2021-08-25T11:59:50.728071Z",
     "iopub.status.idle": "2021-08-25T11:59:50.734912Z",
     "shell.execute_reply": "2021-08-25T11:59:50.733878Z",
     "shell.execute_reply.started": "2021-08-25T11:59:50.728547Z"
    }
   },
   "outputs": [
    {
     "data": {
      "text/plain": [
       "320552"
      ]
     },
     "execution_count": 22,
     "metadata": {},
     "output_type": "execute_result"
    }
   ],
   "source": [
    "len(x1_train)"
   ]
  },
  {
   "cell_type": "code",
   "execution_count": 23,
   "metadata": {
    "_uuid": "054e58186454afa967a26049693a1945593d2075",
    "execution": {
     "iopub.execute_input": "2021-08-25T11:59:50.736622Z",
     "iopub.status.busy": "2021-08-25T11:59:50.736364Z",
     "iopub.status.idle": "2021-08-25T11:59:50.750421Z",
     "shell.execute_reply": "2021-08-25T11:59:50.749531Z",
     "shell.execute_reply.started": "2021-08-25T11:59:50.736559Z"
    }
   },
   "outputs": [
    {
     "data": {
      "text/plain": [
       "[[217, 1268, 32, 1178, 5967, 25, 489, 2877, 116, 5559, 4, 1850, 2, 13]]"
      ]
     },
     "execution_count": 23,
     "metadata": {},
     "output_type": "execute_result"
    }
   ],
   "source": [
    "x1_train[:1]"
   ]
  },
  {
   "cell_type": "code",
   "execution_count": 24,
   "metadata": {
    "_uuid": "bfe3a9b20dc1414289d56830d3d0cae5ad520a59",
    "execution": {
     "iopub.execute_input": "2021-08-25T11:59:50.752214Z",
     "iopub.status.busy": "2021-08-25T11:59:50.751958Z",
     "iopub.status.idle": "2021-08-25T11:59:50.763805Z",
     "shell.execute_reply": "2021-08-25T11:59:50.762759Z",
     "shell.execute_reply.started": "2021-08-25T11:59:50.752170Z"
    }
   },
   "outputs": [
    {
     "name": "stdout",
     "output_type": "stream",
     "text": [
      "['2017', '养老保险', '又', '新增', '两项', '农村', '老人', '人人', '可', '申领', '你', '领到', '了', '吗']\n"
     ]
    }
   ],
   "source": [
    "for seq in x1_train[:1]:\n",
    "    print([tokenizer.index_word[idx] for idx in seq])"
   ]
  },
  {
   "cell_type": "markdown",
   "metadata": {
    "_uuid": "3d7582b42c141b1e8bdec50235f6c36a07739854"
   },
   "source": [
    "# 序列的 Zero Padding"
   ]
  },
  {
   "cell_type": "code",
   "execution_count": 25,
   "metadata": {
    "_uuid": "5fa751fed5eea48e8fea274c656e01b7321357e8",
    "execution": {
     "iopub.execute_input": "2021-08-25T11:59:50.765619Z",
     "iopub.status.busy": "2021-08-25T11:59:50.765374Z",
     "iopub.status.idle": "2021-08-25T11:59:56.371238Z",
     "shell.execute_reply": "2021-08-25T11:59:56.370329Z",
     "shell.execute_reply.started": "2021-08-25T11:59:50.765574Z"
    }
   },
   "outputs": [],
   "source": [
    "MAX_SEQUENCE_LENGTH = 20\n",
    "x1_train = keras \\\n",
    "    .preprocessing \\\n",
    "    .sequence \\\n",
    "    .pad_sequences(x1_train, \n",
    "                   maxlen=MAX_SEQUENCE_LENGTH)\n",
    "\n",
    "x2_train = keras \\\n",
    "    .preprocessing \\\n",
    "    .sequence \\\n",
    "    .pad_sequences(x2_train, \n",
    "                   maxlen=MAX_SEQUENCE_LENGTH)"
   ]
  },
  {
   "cell_type": "code",
   "execution_count": 26,
   "metadata": {
    "_uuid": "b7ca5e3ea23410adabd4b70defe2354309b50375",
    "execution": {
     "iopub.execute_input": "2021-08-25T11:59:56.372856Z",
     "iopub.status.busy": "2021-08-25T11:59:56.372617Z",
     "iopub.status.idle": "2021-08-25T11:59:56.381882Z",
     "shell.execute_reply": "2021-08-25T11:59:56.380937Z",
     "shell.execute_reply.started": "2021-08-25T11:59:56.372814Z"
    }
   },
   "outputs": [
    {
     "data": {
      "text/plain": [
       "array([   0,    0,    0,    0,    0,    0,  217, 1268,   32, 1178, 5967,\n",
       "         25,  489, 2877,  116, 5559,    4, 1850,    2,   13], dtype=int32)"
      ]
     },
     "execution_count": 26,
     "metadata": {},
     "output_type": "execute_result"
    }
   ],
   "source": [
    "x1_train[0]"
   ]
  },
  {
   "cell_type": "code",
   "execution_count": 27,
   "metadata": {
    "_uuid": "f95ce36c85e546b75bfd88f1915248340e622700",
    "execution": {
     "iopub.execute_input": "2021-08-25T11:59:56.383923Z",
     "iopub.status.busy": "2021-08-25T11:59:56.383588Z",
     "iopub.status.idle": "2021-08-25T11:59:56.577874Z",
     "shell.execute_reply": "2021-08-25T11:59:56.577116Z",
     "shell.execute_reply.started": "2021-08-25T11:59:56.383864Z"
    }
   },
   "outputs": [
    {
     "name": "stdout",
     "output_type": "stream",
     "text": [
      "所有新聞標題的序列長度皆為 20 !\n"
     ]
    }
   ],
   "source": [
    "for seq in x1_train + x2_train:\n",
    "    assert len(seq) == 20\n",
    "    \n",
    "print(\"所有新聞標題的序列長度皆為 20 !\")"
   ]
  },
  {
   "cell_type": "markdown",
   "metadata": {
    "_uuid": "98aa89c7da1470f5d328dcc23948d5d891535eb6"
   },
   "source": [
    "# 將 Label 做 One-hot Encoding"
   ]
  },
  {
   "cell_type": "code",
   "execution_count": 28,
   "metadata": {
    "_uuid": "3952a8bcee36a5dbac60bb68bacef6b230ca7351",
    "execution": {
     "iopub.execute_input": "2021-08-25T11:59:56.579432Z",
     "iopub.status.busy": "2021-08-25T11:59:56.579152Z",
     "iopub.status.idle": "2021-08-25T11:59:56.587375Z",
     "shell.execute_reply": "2021-08-25T11:59:56.586353Z",
     "shell.execute_reply.started": "2021-08-25T11:59:56.579381Z"
    }
   },
   "outputs": [
    {
     "data": {
      "text/plain": [
       "id\n",
       "0    unrelated\n",
       "3    unrelated\n",
       "1    unrelated\n",
       "2    unrelated\n",
       "9       agreed\n",
       "Name: label, dtype: object"
      ]
     },
     "execution_count": 28,
     "metadata": {},
     "output_type": "execute_result"
    }
   ],
   "source": [
    "train.label[:5]"
   ]
  },
  {
   "cell_type": "code",
   "execution_count": 29,
   "metadata": {
    "_uuid": "ea6398f67e3900678b0fe0dd98c3fde7c7cfc513",
    "execution": {
     "iopub.execute_input": "2021-08-25T11:59:56.589815Z",
     "iopub.status.busy": "2021-08-25T11:59:56.589436Z",
     "iopub.status.idle": "2021-08-25T11:59:56.866070Z",
     "shell.execute_reply": "2021-08-25T11:59:56.864935Z",
     "shell.execute_reply.started": "2021-08-25T11:59:56.589746Z"
    }
   },
   "outputs": [
    {
     "data": {
      "text/plain": [
       "array([0., 0., 0., 0., 1.], dtype=float32)"
      ]
     },
     "execution_count": 29,
     "metadata": {},
     "output_type": "execute_result"
    }
   ],
   "source": [
    "import numpy as np \n",
    "\n",
    "# 定義每一個分類對應到的索引數字\n",
    "label_to_index = {\n",
    "    'unrelated': 0, \n",
    "    'agreed': 1, \n",
    "    'disagreed': 2\n",
    "}\n",
    "\n",
    "# 將分類標籤對應到剛定義的數字\n",
    "y_train = train.label.apply(\n",
    "    lambda x: label_to_index[x])\n",
    "\n",
    "y_train = np.asarray(y_train) \\\n",
    "            .astype('float32')\n",
    "\n",
    "y_train[:5]"
   ]
  },
  {
   "cell_type": "code",
   "execution_count": 30,
   "metadata": {
    "_cell_guid": "79c7e3d0-c299-4dcb-8224-4455121ee9b0",
    "_uuid": "d629ff2d2480ee46fbb7e2d37f6b5fab8052498a",
    "execution": {
     "iopub.execute_input": "2021-08-25T11:59:56.867979Z",
     "iopub.status.busy": "2021-08-25T11:59:56.867512Z",
     "iopub.status.idle": "2021-08-25T11:59:56.873879Z",
     "shell.execute_reply": "2021-08-25T11:59:56.872664Z",
     "shell.execute_reply.started": "2021-08-25T11:59:56.867902Z"
    }
   },
   "outputs": [],
   "source": [
    "# 基本參數設置，有幾個分類\n",
    "NUM_CLASSES = 3\n",
    "\n",
    "# 在語料庫裡有多少詞彙\n",
    "MAX_NUM_WORDS = 10000\n",
    "\n",
    "# 一個標題最長有幾個詞彙\n",
    "MAX_SEQUENCE_LENGTH = 20\n",
    "\n",
    "# 一個詞向量的維度\n",
    "NUM_EMBEDDING_DIM = 256\n",
    "\n",
    "# LSTM 輸出的向量維度\n",
    "NUM_LSTM_UNITS = 128"
   ]
  },
  {
   "cell_type": "code",
   "execution_count": 31,
   "metadata": {
    "_uuid": "5f90d16a76a1e0f4625e9e0615c6597930dce7e6",
    "execution": {
     "iopub.execute_input": "2021-08-25T11:59:56.875864Z",
     "iopub.status.busy": "2021-08-25T11:59:56.875482Z",
     "iopub.status.idle": "2021-08-25T11:59:56.888704Z",
     "shell.execute_reply": "2021-08-25T11:59:56.887900Z",
     "shell.execute_reply.started": "2021-08-25T11:59:56.875796Z"
    }
   },
   "outputs": [
    {
     "data": {
      "text/plain": [
       "array([[   0,    0,    0,    0,    0,    0,  217, 1268,   32, 1178, 5967,\n",
       "          25,  489, 2877,  116, 5559,    4, 1850,    2,   13],\n",
       "       [   0,    4,   10,   47,  678, 2558,    4,  166,   34,   17,   47,\n",
       "        5150,   63,   15,  678, 4502, 3211,   23,  284, 1181],\n",
       "       [   0,    4,   10,   47,  678, 2558,    4,  166,   34,   17,   47,\n",
       "        5150,   63,   15,  678, 4502, 3211,   23,  284, 1181],\n",
       "       [   0,    4,   10,   47,  678, 2558,    4,  166,   34,   17,   47,\n",
       "        5150,   63,   15,  678, 4502, 3211,   23,  284, 1181],\n",
       "       [   0,    0,    0,    0,    0,    0,    0,    0,    0,    0,    0,\n",
       "          31,  320, 3372, 3062,    1,   95,   98, 3372, 3062]],\n",
       "      dtype=int32)"
      ]
     },
     "execution_count": 31,
     "metadata": {},
     "output_type": "execute_result"
    }
   ],
   "source": [
    "x1_train[:5]"
   ]
  },
  {
   "cell_type": "code",
   "execution_count": 32,
   "metadata": {
    "_uuid": "aaa59d52aa9eaf579f1854b4413cf1a97fda1732",
    "execution": {
     "iopub.execute_input": "2021-08-25T11:59:56.891411Z",
     "iopub.status.busy": "2021-08-25T11:59:56.891064Z",
     "iopub.status.idle": "2021-08-25T11:59:56.905450Z",
     "shell.execute_reply": "2021-08-25T11:59:56.904450Z",
     "shell.execute_reply.started": "2021-08-25T11:59:56.891367Z"
    }
   },
   "outputs": [
    {
     "data": {
      "text/plain": [
       "id\n",
       "0    unrelated\n",
       "3    unrelated\n",
       "1    unrelated\n",
       "2    unrelated\n",
       "9       agreed\n",
       "Name: label, dtype: object"
      ]
     },
     "execution_count": 32,
     "metadata": {},
     "output_type": "execute_result"
    }
   ],
   "source": [
    "train.label[:5]"
   ]
  },
  {
   "cell_type": "code",
   "execution_count": 33,
   "metadata": {
    "_uuid": "d8bad0ee8c268b1193733f2816eca5715ce8ac60",
    "execution": {
     "iopub.execute_input": "2021-08-25T11:59:56.907486Z",
     "iopub.status.busy": "2021-08-25T11:59:56.907174Z",
     "iopub.status.idle": "2021-08-25T11:59:56.923988Z",
     "shell.execute_reply": "2021-08-25T11:59:56.922753Z",
     "shell.execute_reply.started": "2021-08-25T11:59:56.907428Z"
    }
   },
   "outputs": [
    {
     "data": {
      "text/plain": [
       "array([[1., 0., 0.],\n",
       "       [1., 0., 0.],\n",
       "       [1., 0., 0.],\n",
       "       [1., 0., 0.],\n",
       "       [0., 1., 0.]], dtype=float32)"
      ]
     },
     "execution_count": 33,
     "metadata": {},
     "output_type": "execute_result"
    }
   ],
   "source": [
    "y_train = keras \\\n",
    "    .utils \\\n",
    "    .to_categorical(y_train)\n",
    "\n",
    "y_train[:5]"
   ]
  },
  {
   "cell_type": "code",
   "execution_count": 34,
   "metadata": {
    "_uuid": "bd20553b706f8ffcc95fa323aa1ddae14c65ae4d",
    "execution": {
     "iopub.execute_input": "2021-08-25T11:59:56.925765Z",
     "iopub.status.busy": "2021-08-25T11:59:56.925508Z",
     "iopub.status.idle": "2021-08-25T11:59:57.955989Z",
     "shell.execute_reply": "2021-08-25T11:59:57.954791Z",
     "shell.execute_reply.started": "2021-08-25T11:59:56.925728Z"
    }
   },
   "outputs": [],
   "source": [
    "from sklearn.model_selection \\\n",
    "    import train_test_split\n",
    "\n",
    "VALIDATION_RATIO = 0.1\n",
    "# 小彩蛋\n",
    "RANDOM_STATE = 9527\n",
    "\n",
    "x1_train, x1_val, \\\n",
    "x2_train, x2_val, \\\n",
    "y_train, y_val = \\\n",
    "    train_test_split(\n",
    "        x1_train, x2_train, y_train, \n",
    "        test_size=VALIDATION_RATIO, \n",
    "        random_state=RANDOM_STATE\n",
    ")"
   ]
  },
  {
   "cell_type": "code",
   "execution_count": 35,
   "metadata": {
    "_uuid": "33e111824d1719dd3ac2530144149942fc3ebe4d",
    "execution": {
     "iopub.execute_input": "2021-08-25T11:59:57.958043Z",
     "iopub.status.busy": "2021-08-25T11:59:57.957666Z",
     "iopub.status.idle": "2021-08-25T11:59:57.965909Z",
     "shell.execute_reply": "2021-08-25T11:59:57.964768Z",
     "shell.execute_reply.started": "2021-08-25T11:59:57.957983Z"
    }
   },
   "outputs": [
    {
     "name": "stdout",
     "output_type": "stream",
     "text": [
      "Training Set\n",
      "----------\n",
      "x1_train: (288496, 20)\n",
      "x2_train: (288496, 20)\n",
      "y_train : (288496, 3)\n",
      "----------\n",
      "x1_val:   (32056, 20)\n",
      "x2_val:   (32056, 20)\n",
      "y_val :   (32056, 3)\n",
      "----------\n",
      "Test Set\n"
     ]
    }
   ],
   "source": [
    "print(\"Training Set\")\n",
    "print(\"-\" * 10)\n",
    "print(f\"x1_train: {x1_train.shape}\")\n",
    "print(f\"x2_train: {x2_train.shape}\")\n",
    "print(f\"y_train : {y_train.shape}\")\n",
    "\n",
    "print(\"-\" * 10)\n",
    "print(f\"x1_val:   {x1_val.shape}\")\n",
    "print(f\"x2_val:   {x2_val.shape}\")\n",
    "print(f\"y_val :   {y_val.shape}\")\n",
    "print(\"-\" * 10)\n",
    "print(\"Test Set\")"
   ]
  },
  {
   "cell_type": "code",
   "execution_count": 36,
   "metadata": {
    "_uuid": "d5683a09e192a4b8f7c3620bee9a0fdcfc125e43",
    "execution": {
     "iopub.execute_input": "2021-08-25T11:59:57.967366Z",
     "iopub.status.busy": "2021-08-25T11:59:57.967089Z",
     "iopub.status.idle": "2021-08-25T11:59:58.498873Z",
     "shell.execute_reply": "2021-08-25T11:59:58.498074Z",
     "shell.execute_reply.started": "2021-08-25T11:59:57.967313Z"
    }
   },
   "outputs": [
    {
     "name": "stdout",
     "output_type": "stream",
     "text": [
      "__________________________________________________________________________________________________\n",
      "Layer (type)                    Output Shape         Param #     Connected to                     \n",
      "==================================================================================================\n",
      "input_1 (InputLayer)            (None, 20)           0                                            \n",
      "__________________________________________________________________________________________________\n",
      "input_2 (InputLayer)            (None, 20)           0                                            \n",
      "__________________________________________________________________________________________________\n",
      "embedding_1 (Embedding)         (None, 20, 256)      2560000     input_1[0][0]                    \n",
      "                                                                 input_2[0][0]                    \n",
      "__________________________________________________________________________________________________\n",
      "lstm_1 (LSTM)                   (None, 128)          197120      embedding_1[0][0]                \n",
      "                                                                 embedding_1[1][0]                \n",
      "__________________________________________________________________________________________________\n",
      "concatenate_1 (Concatenate)     (None, 256)          0           lstm_1[0][0]                     \n",
      "                                                                 lstm_1[1][0]                     \n",
      "__________________________________________________________________________________________________\n",
      "dense_1 (Dense)                 (None, 3)            771         concatenate_1[0][0]              \n",
      "==================================================================================================\n",
      "Total params: 2,757,891\n",
      "Trainable params: 2,757,891\n",
      "Non-trainable params: 0\n",
      "__________________________________________________________________________________________________\n"
     ]
    }
   ],
   "source": [
    "# 建立孿生 LSTM 架構（Siamese LSTM）\n",
    "from keras import Input\n",
    "from keras.layers import Embedding,LSTM, concatenate, Dense\n",
    "from keras.models import Model\n",
    "\n",
    "# 分別定義 2 個新聞標題 A & B 為模型輸入\n",
    "# 兩個標題都是一個長度為 20 的數字序列\n",
    "top_input = Input(\n",
    "    shape=(MAX_SEQUENCE_LENGTH, ), \n",
    "    dtype='int32')\n",
    "bm_input = Input(\n",
    "    shape=(MAX_SEQUENCE_LENGTH, ), \n",
    "    dtype='int32')\n",
    "\n",
    "# 詞嵌入層\n",
    "# 經過詞嵌入層的轉換，兩個新聞標題都變成\n",
    "# 一個詞向量的序列，而每個詞向量的維度\n",
    "# 為 256\n",
    "embedding_layer = Embedding(\n",
    "    MAX_NUM_WORDS, NUM_EMBEDDING_DIM)\n",
    "top_embedded = embedding_layer(\n",
    "    top_input)\n",
    "bm_embedded = embedding_layer(\n",
    "    bm_input)\n",
    "\n",
    "# LSTM 層\n",
    "# 兩個新聞標題經過此層後\n",
    "# 為一個 128 維度向量\n",
    "shared_lstm = LSTM(NUM_LSTM_UNITS)\n",
    "top_output = shared_lstm(top_embedded)\n",
    "bm_output = shared_lstm(bm_embedded)\n",
    "\n",
    "# 串接層將兩個新聞標題的結果串接單一向量\n",
    "# 方便跟全連結層相連\n",
    "merged = concatenate(\n",
    "    [top_output, bm_output], \n",
    "    axis=-1)\n",
    "\n",
    "# 全連接層搭配 Softmax Activation\n",
    "# 可以回傳 3 個成對標題\n",
    "# 屬於各類別的可能機率\n",
    "dense =  Dense(\n",
    "    units=NUM_CLASSES, \n",
    "    activation='softmax')\n",
    "predictions = dense(merged)\n",
    "\n",
    "# 我們的模型就是將數字序列的輸入，轉換\n",
    "# 成 3 個分類的機率的所有步驟 / 層的總和\n",
    "model = Model(\n",
    "    inputs=[top_input, bm_input], \n",
    "    outputs=predictions)\n",
    "\n",
    "model.summary()"
   ]
  },
  {
   "cell_type": "code",
   "execution_count": 37,
   "metadata": {
    "_uuid": "4f34dc9ab04154f9164a3174fa07d49445dd1d28",
    "execution": {
     "iopub.execute_input": "2021-08-25T11:59:58.501774Z",
     "iopub.status.busy": "2021-08-25T11:59:58.501397Z",
     "iopub.status.idle": "2021-08-25T11:59:58.819711Z",
     "shell.execute_reply": "2021-08-25T11:59:58.818791Z",
     "shell.execute_reply.started": "2021-08-25T11:59:58.501703Z"
    }
   },
   "outputs": [
    {
     "data": {
      "image/svg+xml": [
       "<svg height=\"221pt\" viewBox=\"0.00 0.00 1071.00 166.00\" width=\"1428pt\" xmlns=\"http://www.w3.org/2000/svg\" xmlns:xlink=\"http://www.w3.org/1999/xlink\">\n",
       "<g class=\"graph\" id=\"graph0\" transform=\"scale(1.33333 1.33333) rotate(0) translate(4 162)\">\n",
       "<title>G</title>\n",
       "<polygon fill=\"white\" points=\"-4,4 -4,-162 1067,-162 1067,4 -4,4\" stroke=\"none\"/>\n",
       "<!-- 139785189898728 -->\n",
       "<g class=\"node\" id=\"node1\"><title>139785189898728</title>\n",
       "<polygon fill=\"none\" points=\"0,-88.5 0,-157.5 152,-157.5 152,-88.5 0,-88.5\" stroke=\"black\"/>\n",
       "<text font-family=\"Times,serif\" font-size=\"14.00\" text-anchor=\"middle\" x=\"76\" y=\"-142.3\">InputLayer</text>\n",
       "<polyline fill=\"none\" points=\"0,-134.5 152,-134.5 \" stroke=\"black\"/>\n",
       "<text font-family=\"Times,serif\" font-size=\"14.00\" text-anchor=\"middle\" x=\"36\" y=\"-119.3\">input:</text>\n",
       "<polyline fill=\"none\" points=\"72,-111.5 72,-134.5 \" stroke=\"black\"/>\n",
       "<text font-family=\"Times,serif\" font-size=\"14.00\" text-anchor=\"middle\" x=\"112\" y=\"-119.3\">output:</text>\n",
       "<polyline fill=\"none\" points=\"0,-111.5 152,-111.5 \" stroke=\"black\"/>\n",
       "<text font-family=\"Times,serif\" font-size=\"14.00\" text-anchor=\"middle\" x=\"38\" y=\"-96.3\">(None, 20)</text>\n",
       "<polyline fill=\"none\" points=\"76,-88.5 76,-111.5 \" stroke=\"black\"/>\n",
       "<text font-family=\"Times,serif\" font-size=\"14.00\" text-anchor=\"middle\" x=\"114\" y=\"-96.3\">(None, 20)</text>\n",
       "</g>\n",
       "<!-- 139785189900184 -->\n",
       "<g class=\"node\" id=\"node3\"><title>139785189900184</title>\n",
       "<polygon fill=\"none\" points=\"188,-44.5 188,-113.5 368,-113.5 368,-44.5 188,-44.5\" stroke=\"black\"/>\n",
       "<text font-family=\"Times,serif\" font-size=\"14.00\" text-anchor=\"middle\" x=\"278\" y=\"-98.3\">Embedding</text>\n",
       "<polyline fill=\"none\" points=\"188,-90.5 368,-90.5 \" stroke=\"black\"/>\n",
       "<text font-family=\"Times,serif\" font-size=\"14.00\" text-anchor=\"middle\" x=\"231\" y=\"-75.3\">input:</text>\n",
       "<polyline fill=\"none\" points=\"274,-67.5 274,-90.5 \" stroke=\"black\"/>\n",
       "<text font-family=\"Times,serif\" font-size=\"14.00\" text-anchor=\"middle\" x=\"321\" y=\"-75.3\">output:</text>\n",
       "<polyline fill=\"none\" points=\"188,-67.5 368,-67.5 \" stroke=\"black\"/>\n",
       "<text font-family=\"Times,serif\" font-size=\"14.00\" text-anchor=\"middle\" x=\"226\" y=\"-52.3\">(None, 20)</text>\n",
       "<polyline fill=\"none\" points=\"264,-44.5 264,-67.5 \" stroke=\"black\"/>\n",
       "<text font-family=\"Times,serif\" font-size=\"14.00\" text-anchor=\"middle\" x=\"316\" y=\"-52.3\">(None, 20, 256)</text>\n",
       "</g>\n",
       "<!-- 139785189898728&#45;&gt;139785189900184 -->\n",
       "<g class=\"edge\" id=\"edge1\"><title>139785189898728-&gt;139785189900184</title>\n",
       "<path d=\"M152.042,-106.491C160.498,-104.631 169.208,-102.714 177.909,-100.8\" fill=\"none\" stroke=\"black\"/>\n",
       "<polygon fill=\"black\" points=\"178.701,-104.21 187.715,-98.6427 177.197,-97.3731 178.701,-104.21\" stroke=\"black\"/>\n",
       "</g>\n",
       "<!-- 139785189898896 -->\n",
       "<g class=\"node\" id=\"node2\"><title>139785189898896</title>\n",
       "<polygon fill=\"none\" points=\"0,-0.5 0,-69.5 152,-69.5 152,-0.5 0,-0.5\" stroke=\"black\"/>\n",
       "<text font-family=\"Times,serif\" font-size=\"14.00\" text-anchor=\"middle\" x=\"76\" y=\"-54.3\">InputLayer</text>\n",
       "<polyline fill=\"none\" points=\"0,-46.5 152,-46.5 \" stroke=\"black\"/>\n",
       "<text font-family=\"Times,serif\" font-size=\"14.00\" text-anchor=\"middle\" x=\"36\" y=\"-31.3\">input:</text>\n",
       "<polyline fill=\"none\" points=\"72,-23.5 72,-46.5 \" stroke=\"black\"/>\n",
       "<text font-family=\"Times,serif\" font-size=\"14.00\" text-anchor=\"middle\" x=\"112\" y=\"-31.3\">output:</text>\n",
       "<polyline fill=\"none\" points=\"0,-23.5 152,-23.5 \" stroke=\"black\"/>\n",
       "<text font-family=\"Times,serif\" font-size=\"14.00\" text-anchor=\"middle\" x=\"38\" y=\"-8.3\">(None, 20)</text>\n",
       "<polyline fill=\"none\" points=\"76,-0.5 76,-23.5 \" stroke=\"black\"/>\n",
       "<text font-family=\"Times,serif\" font-size=\"14.00\" text-anchor=\"middle\" x=\"114\" y=\"-8.3\">(None, 20)</text>\n",
       "</g>\n",
       "<!-- 139785189898896&#45;&gt;139785189900184 -->\n",
       "<g class=\"edge\" id=\"edge2\"><title>139785189898896-&gt;139785189900184</title>\n",
       "<path d=\"M152.042,-51.5092C160.498,-53.3695 169.208,-55.2858 177.909,-57.2\" fill=\"none\" stroke=\"black\"/>\n",
       "<polygon fill=\"black\" points=\"177.197,-60.6269 187.715,-59.3573 178.701,-53.7904 177.197,-60.6269\" stroke=\"black\"/>\n",
       "</g>\n",
       "<!-- 139785189899680 -->\n",
       "<g class=\"node\" id=\"node4\"><title>139785189899680</title>\n",
       "<polygon fill=\"none\" points=\"404,-44.5 404,-113.5 591,-113.5 591,-44.5 404,-44.5\" stroke=\"black\"/>\n",
       "<text font-family=\"Times,serif\" font-size=\"14.00\" text-anchor=\"middle\" x=\"497.5\" y=\"-98.3\">LSTM</text>\n",
       "<polyline fill=\"none\" points=\"404,-90.5 591,-90.5 \" stroke=\"black\"/>\n",
       "<text font-family=\"Times,serif\" font-size=\"14.00\" text-anchor=\"middle\" x=\"449\" y=\"-75.3\">input:</text>\n",
       "<polyline fill=\"none\" points=\"494,-67.5 494,-90.5 \" stroke=\"black\"/>\n",
       "<text font-family=\"Times,serif\" font-size=\"14.00\" text-anchor=\"middle\" x=\"542.5\" y=\"-75.3\">output:</text>\n",
       "<polyline fill=\"none\" points=\"404,-67.5 591,-67.5 \" stroke=\"black\"/>\n",
       "<text font-family=\"Times,serif\" font-size=\"14.00\" text-anchor=\"middle\" x=\"456\" y=\"-52.3\">(None, 20, 256)</text>\n",
       "<polyline fill=\"none\" points=\"508,-44.5 508,-67.5 \" stroke=\"black\"/>\n",
       "<text font-family=\"Times,serif\" font-size=\"14.00\" text-anchor=\"middle\" x=\"549.5\" y=\"-52.3\">(None, 128)</text>\n",
       "</g>\n",
       "<!-- 139785189900184&#45;&gt;139785189899680 -->\n",
       "<g class=\"edge\" id=\"edge3\"><title>139785189900184-&gt;139785189899680</title>\n",
       "<path d=\"M368.093,-79C376.434,-79 384.934,-79 393.388,-79\" fill=\"none\" stroke=\"black\"/>\n",
       "<polygon fill=\"black\" points=\"393.664,-82.5001 403.664,-79 393.664,-75.5001 393.664,-82.5001\" stroke=\"black\"/>\n",
       "</g>\n",
       "<!-- 139785189899624 -->\n",
       "<g class=\"node\" id=\"node5\"><title>139785189899624</title>\n",
       "<polygon fill=\"none\" points=\"627,-44.5 627,-113.5 875,-113.5 875,-44.5 627,-44.5\" stroke=\"black\"/>\n",
       "<text font-family=\"Times,serif\" font-size=\"14.00\" text-anchor=\"middle\" x=\"751\" y=\"-98.3\">Concatenate</text>\n",
       "<polyline fill=\"none\" points=\"627,-90.5 875,-90.5 \" stroke=\"black\"/>\n",
       "<text font-family=\"Times,serif\" font-size=\"14.00\" text-anchor=\"middle\" x=\"687\" y=\"-75.3\">input:</text>\n",
       "<polyline fill=\"none\" points=\"747,-67.5 747,-90.5 \" stroke=\"black\"/>\n",
       "<text font-family=\"Times,serif\" font-size=\"14.00\" text-anchor=\"middle\" x=\"811\" y=\"-75.3\">output:</text>\n",
       "<polyline fill=\"none\" points=\"627,-67.5 875,-67.5 \" stroke=\"black\"/>\n",
       "<text font-family=\"Times,serif\" font-size=\"14.00\" text-anchor=\"middle\" x=\"709.5\" y=\"-52.3\">[(None, 128), (None, 128)]</text>\n",
       "<polyline fill=\"none\" points=\"792,-44.5 792,-67.5 \" stroke=\"black\"/>\n",
       "<text font-family=\"Times,serif\" font-size=\"14.00\" text-anchor=\"middle\" x=\"833.5\" y=\"-52.3\">(None, 256)</text>\n",
       "</g>\n",
       "<!-- 139785189899680&#45;&gt;139785189899624 -->\n",
       "<g class=\"edge\" id=\"edge5\"><title>139785189899680-&gt;139785189899624</title>\n",
       "<path d=\"M591.078,-79C599.433,-79 607.999,-79 616.613,-79\" fill=\"none\" stroke=\"black\"/>\n",
       "<polygon fill=\"black\" points=\"616.737,-82.5001 626.737,-79 616.737,-75.5001 616.737,-82.5001\" stroke=\"black\"/>\n",
       "</g>\n",
       "<!-- 139785189889976 -->\n",
       "<g class=\"node\" id=\"node6\"><title>139785189889976</title>\n",
       "<polygon fill=\"none\" points=\"911,-44.5 911,-113.5 1063,-113.5 1063,-44.5 911,-44.5\" stroke=\"black\"/>\n",
       "<text font-family=\"Times,serif\" font-size=\"14.00\" text-anchor=\"middle\" x=\"987\" y=\"-98.3\">Dense</text>\n",
       "<polyline fill=\"none\" points=\"911,-90.5 1063,-90.5 \" stroke=\"black\"/>\n",
       "<text font-family=\"Times,serif\" font-size=\"14.00\" text-anchor=\"middle\" x=\"947\" y=\"-75.3\">input:</text>\n",
       "<polyline fill=\"none\" points=\"983,-67.5 983,-90.5 \" stroke=\"black\"/>\n",
       "<text font-family=\"Times,serif\" font-size=\"14.00\" text-anchor=\"middle\" x=\"1023\" y=\"-75.3\">output:</text>\n",
       "<polyline fill=\"none\" points=\"911,-67.5 1063,-67.5 \" stroke=\"black\"/>\n",
       "<text font-family=\"Times,serif\" font-size=\"14.00\" text-anchor=\"middle\" x=\"952.5\" y=\"-52.3\">(None, 256)</text>\n",
       "<polyline fill=\"none\" points=\"994,-44.5 994,-67.5 \" stroke=\"black\"/>\n",
       "<text font-family=\"Times,serif\" font-size=\"14.00\" text-anchor=\"middle\" x=\"1028.5\" y=\"-52.3\">(None, 3)</text>\n",
       "</g>\n",
       "<!-- 139785189899624&#45;&gt;139785189889976 -->\n",
       "<g class=\"edge\" id=\"edge7\"><title>139785189899624-&gt;139785189889976</title>\n",
       "<path d=\"M875.167,-79C883.778,-79 892.344,-79 900.678,-79\" fill=\"none\" stroke=\"black\"/>\n",
       "<polygon fill=\"black\" points=\"900.716,-82.5001 910.716,-79 900.716,-75.5001 900.716,-82.5001\" stroke=\"black\"/>\n",
       "</g>\n",
       "</g>\n",
       "</svg>"
      ],
      "text/plain": [
       "<IPython.core.display.SVG object>"
      ]
     },
     "execution_count": 37,
     "metadata": {},
     "output_type": "execute_result"
    }
   ],
   "source": [
    "from keras.utils import plot_model\n",
    "import matplotlib.pyplot as plt\n",
    "plot_model(\n",
    "    model, \n",
    "    to_file='model.png', \n",
    "    show_shapes=True, \n",
    "    show_layer_names=False, \n",
    "    rankdir='LR')\n",
    "\n",
    "from IPython.display import SVG\n",
    "from keras.utils import model_to_dot\n",
    "SVG(model_to_dot(model, rankdir='LR', show_shapes=True, show_layer_names=False,).create(prog='dot', format='svg'))"
   ]
  },
  {
   "cell_type": "code",
   "execution_count": 38,
   "metadata": {
    "_uuid": "aa7e5012b2eb61f92359fdca525d0873772014d0",
    "execution": {
     "iopub.execute_input": "2021-08-25T11:59:58.821329Z",
     "iopub.status.busy": "2021-08-25T11:59:58.820939Z",
     "iopub.status.idle": "2021-08-25T11:59:58.825279Z",
     "shell.execute_reply": "2021-08-25T11:59:58.824420Z",
     "shell.execute_reply.started": "2021-08-25T11:59:58.821286Z"
    }
   },
   "outputs": [],
   "source": [
    "from keras.optimizers import Adam"
   ]
  },
  {
   "cell_type": "code",
   "execution_count": 39,
   "metadata": {
    "_uuid": "e1419bcad9e92833655a870737342fc8f383bb6e",
    "execution": {
     "iopub.execute_input": "2021-08-25T11:59:58.826574Z",
     "iopub.status.busy": "2021-08-25T11:59:58.826306Z",
     "iopub.status.idle": "2021-08-25T11:59:58.904175Z",
     "shell.execute_reply": "2021-08-25T11:59:58.903282Z",
     "shell.execute_reply.started": "2021-08-25T11:59:58.826525Z"
    }
   },
   "outputs": [],
   "source": [
    "lr = 1e-3\n",
    "opt = Adam(lr=lr, decay=lr/50)\n",
    "model.compile(\n",
    "    optimizer='adam',\n",
    "    loss='categorical_crossentropy',\n",
    "    metrics=['accuracy'])"
   ]
  },
  {
   "cell_type": "code",
   "execution_count": 40,
   "metadata": {
    "_uuid": "c4ec7437360bffbc6f26223f3ee549783918e90b",
    "execution": {
     "iopub.execute_input": "2021-08-25T11:59:58.906172Z",
     "iopub.status.busy": "2021-08-25T11:59:58.905809Z",
     "iopub.status.idle": "2021-08-25T11:59:58.912690Z",
     "shell.execute_reply": "2021-08-25T11:59:58.911669Z",
     "shell.execute_reply.started": "2021-08-25T11:59:58.906101Z"
    }
   },
   "outputs": [
    {
     "data": {
      "text/plain": [
       "(9527, 20)"
      ]
     },
     "execution_count": 40,
     "metadata": {},
     "output_type": "execute_result"
    }
   ],
   "source": [
    "x1_train[:9527].shape"
   ]
  },
  {
   "cell_type": "code",
   "execution_count": 41,
   "metadata": {
    "_uuid": "d6036140ba12bb73ed676df860a42d37a24e9294",
    "execution": {
     "iopub.execute_input": "2021-08-25T11:59:58.915216Z",
     "iopub.status.busy": "2021-08-25T11:59:58.914432Z",
     "iopub.status.idle": "2021-08-25T16:03:07.101250Z",
     "shell.execute_reply": "2021-08-25T16:03:07.099307Z",
     "shell.execute_reply.started": "2021-08-25T11:59:58.915148Z"
    }
   },
   "outputs": [
    {
     "name": "stdout",
     "output_type": "stream",
     "text": [
      "Train on 288496 samples, validate on 32056 samples\n",
      "Epoch 1/50\n",
      "288496/288496 [==============================] - 285s 987us/step - loss: 0.4659 - acc: 0.7845 - val_loss: 0.4015 - val_acc: 0.8170\n",
      "Epoch 2/50\n",
      "288496/288496 [==============================] - 284s 985us/step - loss: 0.3611 - acc: 0.8362 - val_loss: 0.3766 - val_acc: 0.8311\n",
      "Epoch 3/50\n",
      "288496/288496 [==============================] - 287s 996us/step - loss: 0.3255 - acc: 0.8545 - val_loss: 0.3713 - val_acc: 0.8365\n",
      "Epoch 4/50\n",
      "288496/288496 [==============================] - 289s 1ms/step - loss: 0.2972 - acc: 0.8686 - val_loss: 0.3732 - val_acc: 0.8399\n",
      "Epoch 5/50\n",
      "288496/288496 [==============================] - 287s 996us/step - loss: 0.2712 - acc: 0.8812 - val_loss: 0.3676 - val_acc: 0.8444\n",
      "Epoch 6/50\n",
      "288496/288496 [==============================] - 286s 991us/step - loss: 0.2493 - acc: 0.8918 - val_loss: 0.3769 - val_acc: 0.8448\n",
      "Epoch 7/50\n",
      "288496/288496 [==============================] - 287s 996us/step - loss: 0.2283 - acc: 0.9011 - val_loss: 0.3911 - val_acc: 0.8464\n",
      "Epoch 8/50\n",
      "288496/288496 [==============================] - 289s 1ms/step - loss: 0.2084 - acc: 0.9113 - val_loss: 0.4096 - val_acc: 0.8464\n",
      "Epoch 9/50\n",
      "288496/288496 [==============================] - 290s 1ms/step - loss: 0.1919 - acc: 0.9186 - val_loss: 0.4178 - val_acc: 0.8478\n",
      "Epoch 10/50\n",
      "288496/288496 [==============================] - 287s 996us/step - loss: 0.1764 - acc: 0.9251 - val_loss: 0.4420 - val_acc: 0.8504\n",
      "Epoch 11/50\n",
      "288496/288496 [==============================] - 287s 995us/step - loss: 0.1626 - acc: 0.9320 - val_loss: 0.4638 - val_acc: 0.8516\n",
      "Epoch 12/50\n",
      "288496/288496 [==============================] - 286s 993us/step - loss: 0.1507 - acc: 0.9372 - val_loss: 0.4914 - val_acc: 0.8495\n",
      "Epoch 13/50\n",
      "288496/288496 [==============================] - 290s 1ms/step - loss: 0.1401 - acc: 0.9426 - val_loss: 0.5146 - val_acc: 0.8502\n",
      "Epoch 14/50\n",
      "288496/288496 [==============================] - 290s 1ms/step - loss: 0.1309 - acc: 0.9466 - val_loss: 0.5197 - val_acc: 0.8490\n",
      "Epoch 15/50\n",
      "288496/288496 [==============================] - 289s 1ms/step - loss: 0.1229 - acc: 0.9499 - val_loss: 0.5565 - val_acc: 0.8503\n",
      "Epoch 16/50\n",
      "288496/288496 [==============================] - 287s 996us/step - loss: 0.1161 - acc: 0.9533 - val_loss: 0.5763 - val_acc: 0.8491\n",
      "Epoch 17/50\n",
      "288496/288496 [==============================] - 287s 996us/step - loss: 0.1097 - acc: 0.9561 - val_loss: 0.5947 - val_acc: 0.8509\n",
      "Epoch 18/50\n",
      "288496/288496 [==============================] - 287s 995us/step - loss: 0.1050 - acc: 0.9576 - val_loss: 0.6078 - val_acc: 0.8483\n",
      "Epoch 19/50\n",
      "288496/288496 [==============================] - 286s 991us/step - loss: 0.1001 - acc: 0.9597 - val_loss: 0.6389 - val_acc: 0.8492\n",
      "Epoch 20/50\n",
      "288496/288496 [==============================] - 287s 994us/step - loss: 0.0959 - acc: 0.9616 - val_loss: 0.6521 - val_acc: 0.8493\n",
      "Epoch 21/50\n",
      "288496/288496 [==============================] - 289s 1ms/step - loss: 0.0920 - acc: 0.9629 - val_loss: 0.6603 - val_acc: 0.8461\n",
      "Epoch 22/50\n",
      "288496/288496 [==============================] - 289s 1ms/step - loss: 0.0885 - acc: 0.9644 - val_loss: 0.6599 - val_acc: 0.8462\n",
      "Epoch 23/50\n",
      "288496/288496 [==============================] - 288s 997us/step - loss: 0.0856 - acc: 0.9659 - val_loss: 0.6873 - val_acc: 0.8486\n",
      "Epoch 24/50\n",
      "288496/288496 [==============================] - 288s 997us/step - loss: 0.0827 - acc: 0.9669 - val_loss: 0.7091 - val_acc: 0.8491\n",
      "Epoch 25/50\n",
      "288496/288496 [==============================] - 289s 1ms/step - loss: 0.0801 - acc: 0.9674 - val_loss: 0.7150 - val_acc: 0.8477\n",
      "Epoch 26/50\n",
      "288496/288496 [==============================] - 291s 1ms/step - loss: 0.0778 - acc: 0.9687 - val_loss: 0.7383 - val_acc: 0.8496\n",
      "Epoch 27/50\n",
      "288496/288496 [==============================] - 290s 1ms/step - loss: 0.0760 - acc: 0.9689 - val_loss: 0.7438 - val_acc: 0.8475\n",
      "Epoch 28/50\n",
      "288496/288496 [==============================] - 288s 998us/step - loss: 0.0750 - acc: 0.9693 - val_loss: 0.7355 - val_acc: 0.8475\n",
      "Epoch 29/50\n",
      "288496/288496 [==============================] - 300s 1ms/step - loss: 0.0725 - acc: 0.9703 - val_loss: 0.7658 - val_acc: 0.8472\n",
      "Epoch 30/50\n",
      "288496/288496 [==============================] - 293s 1ms/step - loss: 0.0714 - acc: 0.9707 - val_loss: 0.7593 - val_acc: 0.8495\n",
      "Epoch 31/50\n",
      "288496/288496 [==============================] - 301s 1ms/step - loss: 0.0694 - acc: 0.9713 - val_loss: 0.7776 - val_acc: 0.8474\n",
      "Epoch 32/50\n",
      "288496/288496 [==============================] - 293s 1ms/step - loss: 0.0683 - acc: 0.9717 - val_loss: 0.7793 - val_acc: 0.8477\n",
      "Epoch 33/50\n",
      "288496/288496 [==============================] - 302s 1ms/step - loss: 0.0667 - acc: 0.9725 - val_loss: 0.7902 - val_acc: 0.8471\n",
      "Epoch 34/50\n",
      "288496/288496 [==============================] - 294s 1ms/step - loss: 0.0652 - acc: 0.9727 - val_loss: 0.8108 - val_acc: 0.8472\n",
      "Epoch 35/50\n",
      "288496/288496 [==============================] - 307s 1ms/step - loss: 0.0637 - acc: 0.9732 - val_loss: 0.8098 - val_acc: 0.8493\n",
      "Epoch 36/50\n",
      "288496/288496 [==============================] - 295s 1ms/step - loss: 0.0625 - acc: 0.9733 - val_loss: 0.8221 - val_acc: 0.8462\n",
      "Epoch 37/50\n",
      "288496/288496 [==============================] - 303s 1ms/step - loss: 0.0626 - acc: 0.9734 - val_loss: 0.8285 - val_acc: 0.8474\n",
      "Epoch 38/50\n",
      "288496/288496 [==============================] - 293s 1ms/step - loss: 0.0617 - acc: 0.9739 - val_loss: 0.8588 - val_acc: 0.8487\n",
      "Epoch 39/50\n",
      "288496/288496 [==============================] - 300s 1ms/step - loss: 0.0612 - acc: 0.9745 - val_loss: 0.8520 - val_acc: 0.8473\n",
      "Epoch 40/50\n",
      "288496/288496 [==============================] - 290s 1ms/step - loss: 0.0601 - acc: 0.9741 - val_loss: 0.8708 - val_acc: 0.8476\n",
      "Epoch 41/50\n",
      "288496/288496 [==============================] - 289s 1ms/step - loss: 0.0579 - acc: 0.9750 - val_loss: 0.8595 - val_acc: 0.8464\n",
      "Epoch 42/50\n",
      "288496/288496 [==============================] - 299s 1ms/step - loss: 0.0578 - acc: 0.9750 - val_loss: 0.8733 - val_acc: 0.8470\n",
      "Epoch 43/50\n",
      "288496/288496 [==============================] - 289s 1ms/step - loss: 0.0568 - acc: 0.9753 - val_loss: 0.8904 - val_acc: 0.8470\n",
      "Epoch 44/50\n",
      "288496/288496 [==============================] - 299s 1ms/step - loss: 0.0566 - acc: 0.9747 - val_loss: 0.8776 - val_acc: 0.8466\n",
      "Epoch 45/50\n",
      "288496/288496 [==============================] - 288s 1000us/step - loss: 0.0561 - acc: 0.9756 - val_loss: 0.9110 - val_acc: 0.8478\n",
      "Epoch 46/50\n",
      "288496/288496 [==============================] - 299s 1ms/step - loss: 0.0552 - acc: 0.9758 - val_loss: 0.9058 - val_acc: 0.8473\n",
      "Epoch 47/50\n",
      "288496/288496 [==============================] - 292s 1ms/step - loss: 0.0547 - acc: 0.9757 - val_loss: 0.9036 - val_acc: 0.8465\n",
      "Epoch 48/50\n",
      "288496/288496 [==============================] - 308s 1ms/step - loss: 0.0538 - acc: 0.9761 - val_loss: 0.9316 - val_acc: 0.8453\n",
      "Epoch 49/50\n",
      "288496/288496 [==============================] - 290s 1ms/step - loss: 0.0530 - acc: 0.9763 - val_loss: 0.9156 - val_acc: 0.8461\n",
      "Epoch 50/50\n",
      "288496/288496 [==============================] - 303s 1ms/step - loss: 0.0524 - acc: 0.9764 - val_loss: 0.9329 - val_acc: 0.8465\n"
     ]
    }
   ],
   "source": [
    "# 決定一次要放多少成對標題給模型訓練\n",
    "BATCH_SIZE = 512\n",
    "\n",
    "# 決定模型要看整個訓練資料集幾遍\n",
    "NUM_EPOCHS = 50\n",
    "\n",
    "# 實際訓練模型\n",
    "history = model.fit(\n",
    "    # 輸入是兩個長度為 20 的數字序列\n",
    "    x=[x1_train, x2_train], \n",
    "    y=y_train,\n",
    "    batch_size=BATCH_SIZE,\n",
    "    epochs=NUM_EPOCHS,\n",
    "    # 每個 epoch 完後計算驗證資料集\n",
    "    # 上的 Loss 以及準確度\n",
    "    validation_data=(\n",
    "        [x1_val, x2_val], \n",
    "        y_val\n",
    "    ),\n",
    "    # 每個 epoch 隨機調整訓練資料集\n",
    "    # 裡頭的數據以讓訓練過程更穩定\n",
    "    shuffle=True\n",
    ")"
   ]
  },
  {
   "cell_type": "code",
   "execution_count": 42,
   "metadata": {
    "_uuid": "562bde653d563836cb85329d81cec2f9c029b7e6",
    "execution": {
     "iopub.execute_input": "2021-08-25T16:03:07.103211Z",
     "iopub.status.busy": "2021-08-25T16:03:07.102943Z",
     "iopub.status.idle": "2021-08-25T16:06:34.687170Z",
     "shell.execute_reply": "2021-08-25T16:06:34.686242Z",
     "shell.execute_reply.started": "2021-08-25T16:03:07.103169Z"
    }
   },
   "outputs": [
    {
     "name": "stdout",
     "output_type": "stream",
     "text": [
      "Use raw test csv\n"
     ]
    },
    {
     "data": {
      "text/html": [
       "<div>\n",
       "<style scoped>\n",
       "    .dataframe tbody tr th:only-of-type {\n",
       "        vertical-align: middle;\n",
       "    }\n",
       "\n",
       "    .dataframe tbody tr th {\n",
       "        vertical-align: top;\n",
       "    }\n",
       "\n",
       "    .dataframe thead th {\n",
       "        text-align: right;\n",
       "    }\n",
       "</style>\n",
       "<table border=\"1\" class=\"dataframe\">\n",
       "  <thead>\n",
       "    <tr style=\"text-align: right;\">\n",
       "      <th></th>\n",
       "      <th>tid1</th>\n",
       "      <th>tid2</th>\n",
       "      <th>title1_zh</th>\n",
       "      <th>title2_zh</th>\n",
       "      <th>title1_en</th>\n",
       "      <th>title2_en</th>\n",
       "      <th>title1_tokenized</th>\n",
       "      <th>title2_tokenized</th>\n",
       "    </tr>\n",
       "    <tr>\n",
       "      <th>id</th>\n",
       "      <th></th>\n",
       "      <th></th>\n",
       "      <th></th>\n",
       "      <th></th>\n",
       "      <th></th>\n",
       "      <th></th>\n",
       "      <th></th>\n",
       "      <th></th>\n",
       "    </tr>\n",
       "  </thead>\n",
       "  <tbody>\n",
       "    <tr>\n",
       "      <th>321187</th>\n",
       "      <td>167562</td>\n",
       "      <td>59521</td>\n",
       "      <td>萨拉赫人气爆棚!埃及总统大选未参选获百万选票 现任总统压力山大</td>\n",
       "      <td>辟谣！里昂官方否认费基尔加盟利物浦，难道是价格没谈拢？</td>\n",
       "      <td>egypt 's presidential election failed to win m...</td>\n",
       "      <td>Lyon! Lyon officials have denied that Felipe F...</td>\n",
       "      <td>萨拉 赫 人气 爆棚 埃及 总统大选 未 参选 获 百万 选票 现任 总统 压力 山 大</td>\n",
       "      <td>辟谣 里昂 官方 否认 费 基尔 加盟 利物浦 难道 是 价格 没 谈拢</td>\n",
       "    </tr>\n",
       "    <tr>\n",
       "      <th>321190</th>\n",
       "      <td>167564</td>\n",
       "      <td>91315</td>\n",
       "      <td>萨达姆被捕后告诫美国的一句话，发人深思</td>\n",
       "      <td>10大最让美国人相信的荒诞谣言，如蜥蜴人掌控着美国</td>\n",
       "      <td>A message from Saddam Hussein after he was cap...</td>\n",
       "      <td>The Top 10 Americans believe that the Lizard M...</td>\n",
       "      <td>萨达姆 被捕 后 告诫 美国 的 一句 话 发人深思</td>\n",
       "      <td>10 大 最 让 美国 人 相信 的 荒诞 谣言 如 蜥蜴人 掌控 着 美国</td>\n",
       "    </tr>\n",
       "    <tr>\n",
       "      <th>321189</th>\n",
       "      <td>167563</td>\n",
       "      <td>167564</td>\n",
       "      <td>萨达姆此项计划没有此国破坏的话，美国还会对伊拉克发动战争吗</td>\n",
       "      <td>萨达姆被捕后告诫美国的一句话，发人深思</td>\n",
       "      <td>Will the United States wage war on Iraq withou...</td>\n",
       "      <td>A message from Saddam Hussein after he was cap...</td>\n",
       "      <td>萨达姆 此项 计划 没有 此国 破坏 的话 美国 还 会 对 伊拉克 发动战争 吗</td>\n",
       "      <td>萨达姆 被捕 后 告诫 美国 的 一句 话 发人深思</td>\n",
       "    </tr>\n",
       "  </tbody>\n",
       "</table>\n",
       "</div>"
      ],
      "text/plain": [
       "          tid1                   ...                                          title2_tokenized\n",
       "id                               ...                                                          \n",
       "321187  167562                   ...                      辟谣 里昂 官方 否认 费 基尔 加盟 利物浦 难道 是 价格 没 谈拢\n",
       "321190  167564                   ...                    10 大 最 让 美国 人 相信 的 荒诞 谣言 如 蜥蜴人 掌控 着 美国\n",
       "321189  167563                   ...                                萨达姆 被捕 后 告诫 美国 的 一句 话 发人深思\n",
       "\n",
       "[3 rows x 8 columns]"
      ]
     },
     "execution_count": 42,
     "metadata": {},
     "output_type": "execute_result"
    }
   ],
   "source": [
    "import pandas as pd\n",
    "if os.path.exists(TOKENIZED_TEST_CSV_PATH):\n",
    "    print(\"Use tokenized test csv\")\n",
    "    test = pd.read_csv(TOKENIZED_TEST_CSV_PATH, index_col=0)\n",
    "else:\n",
    "    print(\"Use raw test csv\")\n",
    "    test = pd.read_csv(TEST_CSV_PATH, index_col=0)\n",
    "    test.fillna('UNKNOWN', inplace=True)\n",
    "    test['title1_tokenized'] = parallelize(test.loc[:, 'title1_zh'], process)\n",
    "    test['title2_tokenized'] = parallelize(test.loc[:, 'title2_zh'], process)\n",
    "    test.fillna('UNKNOWN', inplace=True)\n",
    "test.head(3)"
   ]
  },
  {
   "cell_type": "code",
   "execution_count": 43,
   "metadata": {
    "_uuid": "c3b50b3d8d971a46d08281dc593083c0622ba98b",
    "execution": {
     "iopub.execute_input": "2021-08-25T16:06:34.883651Z",
     "iopub.status.busy": "2021-08-25T16:06:34.883343Z",
     "iopub.status.idle": "2021-08-25T16:07:11.030800Z",
     "shell.execute_reply": "2021-08-25T16:07:11.029647Z",
     "shell.execute_reply.started": "2021-08-25T16:06:34.883561Z"
    }
   },
   "outputs": [],
   "source": [
    "\n",
    "# 將詞彙序列轉為索引數字的序列\n",
    "x1_test = tokenizer \\\n",
    "    .texts_to_sequences(\n",
    "        test.title1_tokenized)\n",
    "x2_test = tokenizer \\\n",
    "    .texts_to_sequences(\n",
    "        test.title2_tokenized)\n",
    "\n",
    "# 為數字序列加入 zero padding\n",
    "x1_test = keras \\\n",
    "    .preprocessing \\\n",
    "    .sequence \\\n",
    "    .pad_sequences(\n",
    "        x1_test, \n",
    "        maxlen=MAX_SEQUENCE_LENGTH)\n",
    "x2_test = keras \\\n",
    "    .preprocessing \\\n",
    "    .sequence \\\n",
    "    .pad_sequences(\n",
    "        x2_test, \n",
    "        maxlen=MAX_SEQUENCE_LENGTH)    \n",
    "\n",
    "# 利用已訓練的模型做預測\n",
    "predictions = model.predict(\n",
    "    [x1_test, x2_test])"
   ]
  },
  {
   "cell_type": "code",
   "execution_count": 44,
   "metadata": {
    "_uuid": "cf4ef3935180dab87f28b8128cef09f63ea18867",
    "execution": {
     "iopub.execute_input": "2021-08-25T16:07:11.032858Z",
     "iopub.status.busy": "2021-08-25T16:07:11.032490Z",
     "iopub.status.idle": "2021-08-25T16:07:11.042121Z",
     "shell.execute_reply": "2021-08-25T16:07:11.041467Z",
     "shell.execute_reply.started": "2021-08-25T16:07:11.032797Z"
    }
   },
   "outputs": [
    {
     "data": {
      "text/plain": [
       "array([[9.99981165e-01, 3.86150089e-14, 1.88565482e-05],\n",
       "       [9.99804795e-01, 1.66692757e-07, 1.95083398e-04],\n",
       "       [8.82719874e-01, 1.17279366e-01, 7.35057711e-07],\n",
       "       [9.99994278e-01, 5.72507543e-06, 2.68289995e-08],\n",
       "       [1.00000000e+00, 4.95503372e-09, 2.91800228e-09]], dtype=float32)"
      ]
     },
     "execution_count": 44,
     "metadata": {},
     "output_type": "execute_result"
    }
   ],
   "source": [
    "predictions[:5]"
   ]
  },
  {
   "cell_type": "code",
   "execution_count": 45,
   "metadata": {
    "_uuid": "83fb82b7c89da9ca719ca0e96ba7149822c34090",
    "execution": {
     "iopub.execute_input": "2021-08-25T16:07:11.043880Z",
     "iopub.status.busy": "2021-08-25T16:07:11.043589Z",
     "iopub.status.idle": "2021-08-25T16:07:11.459476Z",
     "shell.execute_reply": "2021-08-25T16:07:11.458542Z",
     "shell.execute_reply.started": "2021-08-25T16:07:11.043824Z"
    }
   },
   "outputs": [
    {
     "data": {
      "text/html": [
       "<div>\n",
       "<style scoped>\n",
       "    .dataframe tbody tr th:only-of-type {\n",
       "        vertical-align: middle;\n",
       "    }\n",
       "\n",
       "    .dataframe tbody tr th {\n",
       "        vertical-align: top;\n",
       "    }\n",
       "\n",
       "    .dataframe thead th {\n",
       "        text-align: right;\n",
       "    }\n",
       "</style>\n",
       "<table border=\"1\" class=\"dataframe\">\n",
       "  <thead>\n",
       "    <tr style=\"text-align: right;\">\n",
       "      <th></th>\n",
       "      <th>Id</th>\n",
       "      <th>Category</th>\n",
       "    </tr>\n",
       "  </thead>\n",
       "  <tbody>\n",
       "    <tr>\n",
       "      <th>0</th>\n",
       "      <td>321187</td>\n",
       "      <td>unrelated</td>\n",
       "    </tr>\n",
       "    <tr>\n",
       "      <th>1</th>\n",
       "      <td>321190</td>\n",
       "      <td>unrelated</td>\n",
       "    </tr>\n",
       "    <tr>\n",
       "      <th>2</th>\n",
       "      <td>321189</td>\n",
       "      <td>unrelated</td>\n",
       "    </tr>\n",
       "    <tr>\n",
       "      <th>3</th>\n",
       "      <td>321193</td>\n",
       "      <td>unrelated</td>\n",
       "    </tr>\n",
       "    <tr>\n",
       "      <th>4</th>\n",
       "      <td>321191</td>\n",
       "      <td>unrelated</td>\n",
       "    </tr>\n",
       "  </tbody>\n",
       "</table>\n",
       "</div>"
      ],
      "text/plain": [
       "       Id   Category\n",
       "0  321187  unrelated\n",
       "1  321190  unrelated\n",
       "2  321189  unrelated\n",
       "3  321193  unrelated\n",
       "4  321191  unrelated"
      ]
     },
     "execution_count": 45,
     "metadata": {},
     "output_type": "execute_result"
    }
   ],
   "source": [
    "index_to_label = {v: k for k, v in label_to_index.items()}\n",
    "\n",
    "test['Category'] = [index_to_label[idx] for idx in np.argmax(predictions, axis=1)]\n",
    "\n",
    "submission = test \\\n",
    "    .loc[:, ['Category']] \\\n",
    "    .reset_index()\n",
    "\n",
    "submission.columns = ['Id', 'Category']\n",
    "submission.to_csv('submission.csv', index=False)\n",
    "submission.head()"
   ]
  },
  {
   "cell_type": "code",
   "execution_count": 1,
   "metadata": {},
   "outputs": [
    {
     "ename": "SyntaxError",
     "evalue": "invalid syntax (<ipython-input-1-37032c5bd914>, line 1)",
     "output_type": "error",
     "traceback": [
      "\u001b[1;36m  File \u001b[1;32m\"<ipython-input-1-37032c5bd914>\"\u001b[1;36m, line \u001b[1;32m1\u001b[0m\n\u001b[1;33m    pip install pytorch_pretrained_bert pip install pytorch_pretrained_bert pip install pytorch_pretrained_bert pip install pytorch_pretrained_bert pip install pytorch_pretrained_bert\u001b[0m\n\u001b[1;37m        ^\u001b[0m\n\u001b[1;31mSyntaxError\u001b[0m\u001b[1;31m:\u001b[0m invalid syntax\n"
     ]
    }
   ],
   "source": [
    "pip install pytorch_pretrained_bert pip install pytorch_pretrained_bert pip install pytorch_pretrained_bert pip install pytorch_pretrained_bert pip install pytorch_pretrained_bert \n",
    "pip install pytorch_pretrained_bert \n",
    "pip install pytorch_pretrained_bert \n",
    "pip install pytorch_pretrained_bert "
   ]
  },
  {
   "cell_type": "code",
   "execution_count": null,
   "metadata": {},
   "outputs": [],
   "source": [
    "pip install pytorch_pretrained_bert "
   ]
  }
 ],
 "metadata": {
  "kernelspec": {
   "display_name": "Python 3",
   "language": "python",
   "name": "python3"
  },
  "language_info": {
   "codemirror_mode": {
    "name": "ipython",
    "version": 3
   },
   "file_extension": ".py",
   "mimetype": "text/x-python",
   "name": "python",
   "nbconvert_exporter": "python",
   "pygments_lexer": "ipython3",
   "version": "3.8.5"
  }
 },
 "nbformat": 4,
 "nbformat_minor": 4
}
